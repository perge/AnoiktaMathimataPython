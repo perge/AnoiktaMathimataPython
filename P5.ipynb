{
 "cells": [
  {
   "cell_type": "markdown",
   "metadata": {},
   "source": [
    "# 5. ΣΥΜΒΟΛΟΣΕΙΡΕΣ ΚΑΙ ΚΕΙΜΕΝΟ"
   ]
  },
  {
   "cell_type": "markdown",
   "metadata": {},
   "source": [
    "[5.1 Έξοδος Δεδομένων με την Εντολή print](#5.1)\n",
    "\n",
    "[5.2 Είσοδος Δεδομένων με τις Συναρτήσεις raw_input και input](#5.2)\n",
    "\n",
    "[5.3 Μήκος Συμβολοσειράς και Πρόσβαση στα Στοιχεία της](#5.3)\n",
    "\n",
    "[5.4 Τελεστές σε Συμβολοσειρές](#5.4)\n",
    "\n",
    "[5.5 Μορφοποίηση Συμβολοσειρών](#5.5)\n",
    "\n",
    "[5.6 Ενσωματωμένες Μέθοδοι Συμβολοσειρών](#5.6)\n",
    "\n",
    "[5.7 Άνοιγμα-Κλείσιμο, Διάβασμα-Γράψιμο Αρχείων Κειμένου](#5.7)\n",
    "\n",
    "[5.8 Διαχείριση Αρχείων-Καταλόγων στον Υπολογιστή](#5.8)"
   ]
  },
  {
   "cell_type": "markdown",
   "metadata": {
    "collapsed": true
   },
   "source": [
    "<a id='5.1'></a>\n",
    "## 5.1 Έξοδος Δεδομένων με την Εντολή print"
   ]
  },
  {
   "cell_type": "markdown",
   "metadata": {},
   "source": [
    "Η εκτύπωση είναι της μορφής:\n",
    "\n",
    "print a, b, c, d\n",
    "\n",
    "όπου τα a, b, c, d είναι συμβολοσειρές (ή μεταβλητές), χωρισμένες με κόμματα (,). Για τη μορφοτύπηση (formatting) των τιμών μεταβλητών μέσα σε συμβολοσειρές θα δούμε πιο κάτω.\n",
    "\n",
    "ΚΑΘΕ ΣΥΜΒΟΛΟΣΕΙΡΑ ΠΡΕΠΕΙ ΝΑ ΠΕΡΚΛΕΙΕΤΑΙ ΜΕ ΕΙΣΑΓΩΓΙΚΑ ΤΟΥ ΙΔΙΟΥ ΤΥΠΟΥ ('.' ή \".\" ή '''.''' κλπ.) ΟΤΑΝ ΜΕΣΑ ΣΤΗ ΣΥΜΒΟΛΟΣΕΙΡΑ ΕίΤΕ ΔΕΝ ΥΠΑΡΧΟΥΝ ΕΙΣΑΓΩΓΙΚΑ 'Η ΤΑ ΠΕΡΙΕΧ¨ΟΜΕΝΑ ΕΙΣΑΓΩΓΙΚΑ ΕΙΝΑΙ ΕΜΦΩΛΙΑΣΜΕΝΑ ΣΕ ΔΙΑΦΟΡΕΤΙΚΟΥΣ ΤΥΠΟΥΣ ΤΟ ΚΑΘΕΝΑ."
   ]
  },
  {
   "cell_type": "code",
   "execution_count": 14,
   "metadata": {
    "collapsed": false
   },
   "outputs": [
    {
     "name": "stdout",
     "output_type": "stream",
     "text": [
      "Python is really a great language, right?\n",
      "Python is really a great language, right?\n",
      "Python is really a great language, right?\n",
      "Python is really a great language, isn't it? No, it's not! I'm kiddin'\n",
      "Python is really a great language, isn't it?\n",
      "Someone said: 'Python is really a great language, isn't it?'\n"
     ]
    }
   ],
   "source": [
    "print 'Python is really a great language, right?'\n",
    "print \"Python is really a great language, right?\"\n",
    "print 'Python is really a great language,', 'right?'\n",
    "print 'Python is really a great language,', \"isn't it? No, it's not! I'm kiddin'\"\n",
    "q = \"isn't it?\"\n",
    "print 'Python is really a great language,', q\n",
    "print \"Someone said: 'Python is really a great language, isn't it?'\""
   ]
  },
  {
   "cell_type": "code",
   "execution_count": 15,
   "metadata": {
    "collapsed": false
   },
   "outputs": [
    {
     "ename": "SyntaxError",
     "evalue": "invalid syntax (<ipython-input-15-e237e10e22b6>, line 1)",
     "output_type": "error",
     "traceback": [
      "\u001b[0;36m  File \u001b[0;32m\"<ipython-input-15-e237e10e22b6>\"\u001b[0;36m, line \u001b[0;32m1\u001b[0m\n\u001b[0;31m    print 'Python is really a great language,', 'isn't it?'\u001b[0m\n\u001b[0m                                                     ^\u001b[0m\n\u001b[0;31mSyntaxError\u001b[0m\u001b[0;31m:\u001b[0m invalid syntax\n"
     ]
    }
   ],
   "source": [
    "print 'Python is really a great language,', 'isn't it?'"
   ]
  },
  {
   "cell_type": "markdown",
   "metadata": {},
   "source": [
    "Φυσικά, η εντολή print τυπώνει και αριθμούς ή και αριθμητικές πράξεις (όπως είδαμε ως τώρα):"
   ]
  },
  {
   "cell_type": "code",
   "execution_count": 16,
   "metadata": {
    "collapsed": false
   },
   "outputs": [
    {
     "name": "stdout",
     "output_type": "stream",
     "text": [
      "1.2 1000\n",
      "19.0\n",
      "1001.2\n",
      "1001.2\n"
     ]
    }
   ],
   "source": [
    "k = 1.2\n",
    "l = 10**3\n",
    "print k, l\n",
    "print 17. + 2\n",
    "print k + l\n",
    "m = k + l\n",
    "print m"
   ]
  },
  {
   "cell_type": "markdown",
   "metadata": {},
   "source": [
    "### Η διαφορά μεταξύ εκτέλεσης (run) και εκτύπωσης (print)"
   ]
  },
  {
   "cell_type": "code",
   "execution_count": 17,
   "metadata": {
    "collapsed": false
   },
   "outputs": [
    {
     "data": {
      "text/plain": [
       "'Hellow World!'"
      ]
     },
     "execution_count": 17,
     "metadata": {},
     "output_type": "execute_result"
    }
   ],
   "source": [
    "'Hellow World!'"
   ]
  },
  {
   "cell_type": "code",
   "execution_count": 18,
   "metadata": {
    "collapsed": false
   },
   "outputs": [
    {
     "data": {
      "text/plain": [
       "'Hello World!'"
      ]
     },
     "execution_count": 18,
     "metadata": {},
     "output_type": "execute_result"
    }
   ],
   "source": [
    "\"Hello World!\""
   ]
  },
  {
   "cell_type": "code",
   "execution_count": 19,
   "metadata": {
    "collapsed": false
   },
   "outputs": [
    {
     "data": {
      "text/plain": [
       "str"
      ]
     },
     "execution_count": 19,
     "metadata": {},
     "output_type": "execute_result"
    }
   ],
   "source": [
    "type('Hellow World!')"
   ]
  },
  {
   "cell_type": "code",
   "execution_count": 20,
   "metadata": {
    "collapsed": false
   },
   "outputs": [
    {
     "data": {
      "text/plain": [
       "('Hellow World!', 56)"
      ]
     },
     "execution_count": 20,
     "metadata": {},
     "output_type": "execute_result"
    }
   ],
   "source": [
    "'Hellow World!', 56"
   ]
  },
  {
   "cell_type": "code",
   "execution_count": 21,
   "metadata": {
    "collapsed": false
   },
   "outputs": [
    {
     "data": {
      "text/plain": [
       "tuple"
      ]
     },
     "execution_count": 21,
     "metadata": {},
     "output_type": "execute_result"
    }
   ],
   "source": [
    "type(('Hellow World!', 56))"
   ]
  },
  {
   "cell_type": "markdown",
   "metadata": {},
   "source": [
    "Οι **tuples** (**πλειάδες**) είναι μια από τις σημαντικές **δομές δεδομένων** που έχει η Python και θα ασχοληθούμε με αυτές στη συνέχεια του μαθήματος."
   ]
  },
  {
   "cell_type": "code",
   "execution_count": 22,
   "metadata": {
    "collapsed": false
   },
   "outputs": [
    {
     "name": "stdout",
     "output_type": "stream",
     "text": [
      "Hellow World!\n"
     ]
    }
   ],
   "source": [
    "print 'Hellow World!'"
   ]
  },
  {
   "cell_type": "code",
   "execution_count": 23,
   "metadata": {
    "collapsed": false
   },
   "outputs": [
    {
     "name": "stdout",
     "output_type": "stream",
     "text": [
      "Hellow World! 56\n"
     ]
    }
   ],
   "source": [
    "print 'Hellow World!', 56"
   ]
  },
  {
   "cell_type": "code",
   "execution_count": 24,
   "metadata": {
    "collapsed": false
   },
   "outputs": [
    {
     "name": "stdout",
     "output_type": "stream",
     "text": [
      "('Hellow World!', 56)\n"
     ]
    }
   ],
   "source": [
    "print ('Hellow World!', 56)"
   ]
  },
  {
   "cell_type": "code",
   "execution_count": 25,
   "metadata": {
    "collapsed": false
   },
   "outputs": [
    {
     "name": "stdout",
     "output_type": "stream",
     "text": [
      "Hellow World!\n"
     ]
    }
   ],
   "source": [
    "s = 'Hellow World!'\n",
    "print s"
   ]
  },
  {
   "cell_type": "code",
   "execution_count": 26,
   "metadata": {
    "collapsed": false
   },
   "outputs": [
    {
     "data": {
      "text/plain": [
       "str"
      ]
     },
     "execution_count": 26,
     "metadata": {},
     "output_type": "execute_result"
    }
   ],
   "source": [
    "type(s)"
   ]
  },
  {
   "cell_type": "code",
   "execution_count": 27,
   "metadata": {
    "collapsed": false
   },
   "outputs": [
    {
     "name": "stdout",
     "output_type": "stream",
     "text": [
      "<type 'str'>\n"
     ]
    }
   ],
   "source": [
    "print type(s)"
   ]
  },
  {
   "cell_type": "markdown",
   "metadata": {},
   "source": [
    "<a id='5.2'></a>\n",
    "## 5.2 Είσοδος Δεδομένων με τις Συναρτήσεις raw_input και input"
   ]
  },
  {
   "cell_type": "markdown",
   "metadata": {},
   "source": [
    "### Το raw_input δέχεται ως είσοδο δεδομένα οποιουδήποτε τύπου, γραμμένα χωρίς '.' αν είναι συμβολοσειρές, αλλά τα βγάζει στην έξοδο πάντα ως συμβολοσειρές"
   ]
  },
  {
   "cell_type": "code",
   "execution_count": 28,
   "metadata": {
    "collapsed": false
   },
   "outputs": [
    {
     "name": "stdout",
     "output_type": "stream",
     "text": [
      "Enter your input: Hello, World!\n"
     ]
    },
    {
     "data": {
      "text/plain": [
       "'Hello, World!'"
      ]
     },
     "execution_count": 28,
     "metadata": {},
     "output_type": "execute_result"
    }
   ],
   "source": [
    "raw_input(\"Enter your input: \")"
   ]
  },
  {
   "cell_type": "code",
   "execution_count": 29,
   "metadata": {
    "collapsed": false
   },
   "outputs": [
    {
     "name": "stdout",
     "output_type": "stream",
     "text": [
      "Enter your input: 123\n"
     ]
    }
   ],
   "source": [
    "t = raw_input(\"Enter your input: \")"
   ]
  },
  {
   "cell_type": "code",
   "execution_count": 30,
   "metadata": {
    "collapsed": false
   },
   "outputs": [
    {
     "data": {
      "text/plain": [
       "133"
      ]
     },
     "execution_count": 30,
     "metadata": {},
     "output_type": "execute_result"
    }
   ],
   "source": [
    "int(t) + 10"
   ]
  },
  {
   "cell_type": "code",
   "execution_count": 31,
   "metadata": {
    "collapsed": false
   },
   "outputs": [
    {
     "name": "stdout",
     "output_type": "stream",
     "text": [
      "Enter your input: Hello, World!\n",
      "Printing the received input as: Hello, World!\n",
      "The received input is of <type 'str'>\n"
     ]
    }
   ],
   "source": [
    "s = raw_input(\"Enter your input: \")\n",
    "print \"Printing the received input as:\", s\n",
    "print 'The received input is of', type(s)"
   ]
  },
  {
   "cell_type": "code",
   "execution_count": 32,
   "metadata": {
    "collapsed": false
   },
   "outputs": [
    {
     "name": "stdout",
     "output_type": "stream",
     "text": [
      "Enter your input: 123\n",
      "Printing the received input as: 123\n",
      "The received input is of <type 'str'>\n"
     ]
    }
   ],
   "source": [
    "s = raw_input(\"Enter your input: \")\n",
    "print \"Printing the received input as:\", s\n",
    "print 'The received input is of', type(s)"
   ]
  },
  {
   "cell_type": "code",
   "execution_count": 33,
   "metadata": {
    "collapsed": false
   },
   "outputs": [
    {
     "name": "stdout",
     "output_type": "stream",
     "text": [
      "Enter your input: 2 + 3\n",
      "Printing the received input as: 2 + 3\n",
      "The received input is of <type 'str'>\n"
     ]
    }
   ],
   "source": [
    "s = raw_input(\"Enter your input: \")\n",
    "print \"Printing the received input as:\", s\n",
    "print 'The received input is of', type(s)"
   ]
  },
  {
   "cell_type": "markdown",
   "metadata": {},
   "source": [
    "### Το input δέχεται ως είσοδο δεδομένα οποιουδήποτε τύπου, γραμμένα με '.' αν είναι συμβολοσειρές,  και τα βγάζει στην έξοδο στον τύπο που είναι (εκτός αν τα εισερχόμενα δεδομένα δεν έχουν ορισθεί)"
   ]
  },
  {
   "cell_type": "code",
   "execution_count": 34,
   "metadata": {
    "collapsed": false
   },
   "outputs": [
    {
     "name": "stdout",
     "output_type": "stream",
     "text": [
      "Enter your input: 'Hello, world!'\n"
     ]
    },
    {
     "data": {
      "text/plain": [
       "'Hello, world!'"
      ]
     },
     "execution_count": 34,
     "metadata": {},
     "output_type": "execute_result"
    }
   ],
   "source": [
    "input(\"Enter your input: \")"
   ]
  },
  {
   "cell_type": "code",
   "execution_count": 35,
   "metadata": {
    "collapsed": false
   },
   "outputs": [
    {
     "name": "stdout",
     "output_type": "stream",
     "text": [
      "Enter your input: 123\n"
     ]
    }
   ],
   "source": [
    "t1 = input(\"Enter your input: \")"
   ]
  },
  {
   "cell_type": "code",
   "execution_count": 36,
   "metadata": {
    "collapsed": false
   },
   "outputs": [
    {
     "data": {
      "text/plain": [
       "133"
      ]
     },
     "execution_count": 36,
     "metadata": {},
     "output_type": "execute_result"
    }
   ],
   "source": [
    "t1 + 10"
   ]
  },
  {
   "cell_type": "code",
   "execution_count": 37,
   "metadata": {
    "collapsed": false
   },
   "outputs": [
    {
     "name": "stdout",
     "output_type": "stream",
     "text": [
      "Enter your input: 'Hello, world!'\n",
      "Printing the received input as: Hello, world!\n",
      "The received input is of <type 'str'>\n"
     ]
    }
   ],
   "source": [
    "s = input(\"Enter your input: \")\n",
    "print \"Printing the received input as:\", s\n",
    "print 'The received input is of', type(s)"
   ]
  },
  {
   "cell_type": "code",
   "execution_count": 38,
   "metadata": {
    "collapsed": false
   },
   "outputs": [
    {
     "name": "stdout",
     "output_type": "stream",
     "text": [
      "Enter your input: 123\n",
      "Printing the received input as: 123\n",
      "The received input is of <type 'int'>\n"
     ]
    }
   ],
   "source": [
    "s = input(\"Enter your input: \")\n",
    "print \"Printing the received input as:\", s\n",
    "print 'The received input is of', type(s)"
   ]
  },
  {
   "cell_type": "code",
   "execution_count": 39,
   "metadata": {
    "collapsed": false
   },
   "outputs": [
    {
     "name": "stdout",
     "output_type": "stream",
     "text": [
      "Enter your input: [1,2,3]\n",
      "Printing the received input as: [1, 2, 3]\n",
      "The received input is of <type 'list'>\n"
     ]
    }
   ],
   "source": [
    "s = input(\"Enter your input: \")\n",
    "print \"Printing the received input as:\", s\n",
    "print 'The received input is of', type(s)"
   ]
  },
  {
   "cell_type": "code",
   "execution_count": 40,
   "metadata": {
    "collapsed": false
   },
   "outputs": [
    {
     "name": "stdout",
     "output_type": "stream",
     "text": [
      "Enter your input: 123+10\n",
      "Printing the received input as: 133\n",
      "The received input is of <type 'int'>\n"
     ]
    }
   ],
   "source": [
    "s = input(\"Enter your input: \")\n",
    "print \"Printing the received input as:\", s\n",
    "print 'The received input is of', type(s)"
   ]
  },
  {
   "cell_type": "markdown",
   "metadata": {},
   "source": [
    "<a id='5.3'></a>\n",
    "## 5.3 Μήκος Συμβολοσειράς και Πρόσβαση στα Στοιχεία της"
   ]
  },
  {
   "cell_type": "markdown",
   "metadata": {},
   "source": [
    "Αν s είναι μια συμβολοσειρά, ο **τύπος** της, που είναι προφανώς str, βρίσκεται με την εντολή type(s). \n",
    "\n",
    "Το **μήκος** της s, που ορίζεται ως το συνολικό πλήθος των στοιχείων της s, υπολογίζεται από την εντολή len(s).\n",
    "<p/>\n",
    "\n",
    "<font color=blue>**Η ΑΡΙΘΜΗΣΗ ΣΤΗΝ PYTHON ΑΡΧΙΖΕΙ ΑΠΟ ΤΟ 0!**</font>\n",
    "\n",
    "Το πρώτο στοιχείο της s είναι το s[0]\n",
    "\n",
    "Το δεύτερο στοιχείο της s είναι το s[1]\n",
    "\n",
    "Το τρίτο στοιχείο της s είναι το s[2]\n",
    "\n",
    "κ.ο.κ.\n",
    "\n",
    "Το τελευταίο στοιχείο της s είναι το s[-1]\n",
    "\n",
    "Το πρότελευταιο στοιχείο της s είναι το s[-2]\n",
    "\n",
    "Το δεύτερο από το τέλος στοιχείο της s είναι το s[-3]\n",
    "\n",
    "κ.ο.κ.\n",
    "\n",
    "ΔΙΑΦΟΡΕΤΙΚΑ: Το τελευταίο στοιχείο της s είναι το s[len(s)-1]"
   ]
  },
  {
   "cell_type": "code",
   "execution_count": 41,
   "metadata": {
    "collapsed": false
   },
   "outputs": [
    {
     "name": "stdout",
     "output_type": "stream",
     "text": [
      "The string salut is the sentence:\n",
      "Pws se lene?\n",
      "The type of the string salut is <type 'str'>\n",
      "The length of the string salut is 12\n",
      "The first element of the string salut is P\n",
      "The fifth element of the string salut is s\n",
      "The seventh element of the string salut is  \n",
      "The last element of the string salut is ?\n",
      "The first before the last element of the string salut is e\n",
      "The second before the last element of the string salut is n\n",
      "Otherwise computed, the last element of the string salut is ?\n"
     ]
    }
   ],
   "source": [
    "salut = \"Pws se lene?\"\n",
    "print 'The string salut is the sentence:'\n",
    "print salut\n",
    "print 'The type of the string salut is', type(salut)\n",
    "print 'The length of the string salut is', len(salut)\n",
    "print 'The first element of the string salut is', salut[0]\n",
    "print 'The fifth element of the string salut is', salut[4]\n",
    "print 'The seventh element of the string salut is', salut[6]\n",
    "print 'The last element of the string salut is', salut[-1]\n",
    "print 'The first before the last element of the string salut is', salut[-2]\n",
    "print 'The second before the last element of the string salut is', salut[-3]\n",
    "print 'Otherwise computed, the last element of the string salut is', salut[len(salut)-1]"
   ]
  },
  {
   "cell_type": "markdown",
   "metadata": {
    "collapsed": true
   },
   "source": [
    "<a id='5.4'></a>\n",
    "## 5.4 Τελεστές σε Συμβολοσειρές"
   ]
  },
  {
   "cell_type": "markdown",
   "metadata": {},
   "source": [
    "* **Συνένωση: +**\n",
    "* **Επανάληψη: ***\n",
    "* **Τεμαχισμοί (Slicing): [ : ]**\n",
    "* **Συγκατάταξη (Membership): in, not in**"
   ]
  },
  {
   "cell_type": "markdown",
   "metadata": {},
   "source": [
    "### Συνένωση: +"
   ]
  },
  {
   "cell_type": "code",
   "execution_count": 42,
   "metadata": {
    "collapsed": false
   },
   "outputs": [
    {
     "name": "stdout",
     "output_type": "stream",
     "text": [
      "HelloWorld\n",
      "\n"
     ]
    },
    {
     "ename": "TypeError",
     "evalue": "'str' object is not callable",
     "output_type": "error",
     "traceback": [
      "\u001b[0;31m---------------------------------------------------------------------------\u001b[0m",
      "\u001b[0;31mTypeError\u001b[0m                                 Traceback (most recent call last)",
      "\u001b[0;32m<ipython-input-42-fa6427a8a031>\u001b[0m in \u001b[0;36m<module>\u001b[0;34m()\u001b[0m\n\u001b[1;32m      4\u001b[0m \u001b[0;34m\u001b[0m\u001b[0m\n\u001b[1;32m      5\u001b[0m \u001b[0mn\u001b[0m\u001b[0;34m,\u001b[0m \u001b[0mm\u001b[0m \u001b[0;34m=\u001b[0m \u001b[0;36m3\u001b[0m\u001b[0;34m,\u001b[0m \u001b[0;36m7\u001b[0m\u001b[0;34m\u001b[0m\u001b[0m\n\u001b[0;32m----> 6\u001b[0;31m \u001b[0mk\u001b[0m \u001b[0;34m=\u001b[0m \u001b[0mstr\u001b[0m\u001b[0;34m(\u001b[0m\u001b[0mn\u001b[0m\u001b[0;34m)\u001b[0m \u001b[0;34m+\u001b[0m \u001b[0mstr\u001b[0m\u001b[0;34m(\u001b[0m\u001b[0mm\u001b[0m\u001b[0;34m)\u001b[0m\u001b[0;34m\u001b[0m\u001b[0m\n\u001b[0m\u001b[1;32m      7\u001b[0m \u001b[0ml\u001b[0m \u001b[0;34m=\u001b[0m \u001b[0mm\u001b[0m \u001b[0;34m+\u001b[0m \u001b[0mn\u001b[0m\u001b[0;34m\u001b[0m\u001b[0m\n\u001b[1;32m      8\u001b[0m \u001b[0;32mprint\u001b[0m \u001b[0;34m'The concatenation of str(3) and str(7) is'\u001b[0m\u001b[0;34m,\u001b[0m \u001b[0mk\u001b[0m\u001b[0;34m\u001b[0m\u001b[0m\n",
      "\u001b[0;31mTypeError\u001b[0m: 'str' object is not callable"
     ]
    }
   ],
   "source": [
    "s, t = 'Hello', 'World'\n",
    "print s + t\n",
    "print\n",
    "\n",
    "n, m = 3, 7\n",
    "k = str(n) + str(m)\n",
    "l = m + n\n",
    "print 'The concatenation of str(3) and str(7) is', k\n",
    "print 'The concatenation of str(3) and str(7) is of type', type(k)\n",
    "print  'While the addition of 3 and 7 (as numbers) is', l\n",
    "print 'Of course, the addition of 3 and 7 (as numbers) is of type', type(l)"
   ]
  },
  {
   "cell_type": "code",
   "execution_count": 43,
   "metadata": {
    "collapsed": false
   },
   "outputs": [
    {
     "name": "stdout",
     "output_type": "stream",
     "text": [
      "Hello World\n",
      "1 0\n"
     ]
    }
   ],
   "source": [
    "s, t = 'Hello', 'World'\n",
    "e = ' '                 # Η συμβολοσειρά που αποτελείται από ένα διάστημα\n",
    "print s + e + t\n",
    "f = ''                  # Η κενή συμβολοσειρά\n",
    "print len(e), len(f)"
   ]
  },
  {
   "cell_type": "markdown",
   "metadata": {},
   "source": [
    "### Επανάληψη: *"
   ]
  },
  {
   "cell_type": "code",
   "execution_count": 44,
   "metadata": {
    "collapsed": false
   },
   "outputs": [
    {
     "name": "stdout",
     "output_type": "stream",
     "text": [
      "HelloHelloHello\n",
      "The repetition of string s for three times is of type <type 'str'>\n",
      "HelloHelloHello\n",
      "\n",
      "4.8\n",
      "4000\n"
     ]
    }
   ],
   "source": [
    "print s*3\n",
    "print 'The repetition of string s for three times is of type', type(s*3)\n",
    "print s + s + s\n",
    "print\n",
    "\n",
    "print k*4\n",
    "print l*4"
   ]
  },
  {
   "cell_type": "markdown",
   "metadata": {},
   "source": [
    "**ΠΡΟΣΟΧΗ**: Το συνδετικό * της επανάληψης συμβολοσειρών πρέπει να μπαίνει μεταξύ της συμβολοσειράς και ενός ακέραιου αριθμού (ώστε να επαναλαμβάνει τη συμβολοσειρά τόσες φορές όσες δείχνει ο αριθμός)!"
   ]
  },
  {
   "cell_type": "code",
   "execution_count": 45,
   "metadata": {
    "collapsed": false
   },
   "outputs": [
    {
     "ename": "TypeError",
     "evalue": "can't multiply sequence by non-int of type 'str'",
     "output_type": "error",
     "traceback": [
      "\u001b[0;31m---------------------------------------------------------------------------\u001b[0m",
      "\u001b[0;31mTypeError\u001b[0m                                 Traceback (most recent call last)",
      "\u001b[0;32m<ipython-input-45-783752479b82>\u001b[0m in \u001b[0;36m<module>\u001b[0;34m()\u001b[0m\n\u001b[0;32m----> 1\u001b[0;31m \u001b[0;32mprint\u001b[0m \u001b[0ms\u001b[0m\u001b[0;34m*\u001b[0m\u001b[0ms\u001b[0m\u001b[0;34m\u001b[0m\u001b[0m\n\u001b[0m",
      "\u001b[0;31mTypeError\u001b[0m: can't multiply sequence by non-int of type 'str'"
     ]
    }
   ],
   "source": [
    "print s*s"
   ]
  },
  {
   "cell_type": "code",
   "execution_count": 46,
   "metadata": {
    "collapsed": false
   },
   "outputs": [
    {
     "ename": "TypeError",
     "evalue": "can't multiply sequence by non-int of type 'float'",
     "output_type": "error",
     "traceback": [
      "\u001b[0;31m---------------------------------------------------------------------------\u001b[0m",
      "\u001b[0;31mTypeError\u001b[0m                                 Traceback (most recent call last)",
      "\u001b[0;32m<ipython-input-46-2a7e889a6b52>\u001b[0m in \u001b[0;36m<module>\u001b[0;34m()\u001b[0m\n\u001b[0;32m----> 1\u001b[0;31m \u001b[0;32mprint\u001b[0m \u001b[0ms\u001b[0m\u001b[0;34m*\u001b[0m\u001b[0;36m2.0\u001b[0m\u001b[0;34m\u001b[0m\u001b[0m\n\u001b[0m",
      "\u001b[0;31mTypeError\u001b[0m: can't multiply sequence by non-int of type 'float'"
     ]
    }
   ],
   "source": [
    "print s*2.0"
   ]
  },
  {
   "cell_type": "markdown",
   "metadata": {},
   "source": [
    "### Τεμαχισμοί (Slicing): [ : ]"
   ]
  },
  {
   "cell_type": "markdown",
   "metadata": {},
   "source": [
    "**ΤΕΜΑΧΙΣΜΟΙ** σε υποσυμβολοσειρές:\n",
    "\n",
    "Το κομμάτι των στοιχείων της συμβολοσειράς μεταξύ των θέσεων i και j είναι s[i:j]\n",
    "\n",
    "Το κομμάτι των στοιχείων της συμβολοσειράς μεταξύ των θέσεων i και j ανά k στοιχεία είναι s[i:j:k]\n",
    "\n",
    "Το κομμάτι των στοιχείων της συμβολοσειράς από την θέση i ως το τέλος είναι s[i:]\n",
    "\n",
    "Το κομμάτι των στοιχείων της συμβολοσειράς από την αρχή ως την θέση θέση i είναι s[:i]\n",
    "\n",
    "Έτσι ολόκληρη η συμβολοσειρά ανακτάται ως s[:]"
   ]
  },
  {
   "cell_type": "code",
   "execution_count": 47,
   "metadata": {
    "collapsed": false
   },
   "outputs": [
    {
     "name": "stdout",
     "output_type": "stream",
     "text": [
      "The string salut is the sentence:\n",
      "Pws se lene?\n",
      "12\n",
      "\n",
      " se lene\n",
      "see\n",
      "see?\n",
      "e lene?\n",
      "Pws s\n",
      "Pws se lene?\n"
     ]
    }
   ],
   "source": [
    "salut = \"Pws se lene?\"\n",
    "print 'The string salut is the sentence:'\n",
    "print salut\n",
    "print len(salut)\n",
    "print\n",
    "\n",
    "print salut[3:11]\n",
    "print salut[2:11:3]\n",
    "print salut[2::3]\n",
    "print salut[5:]\n",
    "print salut[:5]\n",
    "print salut[:]"
   ]
  },
  {
   "cell_type": "markdown",
   "metadata": {},
   "source": [
    "### Συγκατάταξη (Membership): in, not in"
   ]
  },
  {
   "cell_type": "code",
   "execution_count": 48,
   "metadata": {
    "collapsed": false
   },
   "outputs": [
    {
     "name": "stdout",
     "output_type": "stream",
     "text": [
      "'s' in salut is True\n",
      "'j' in salut is False\n",
      "'k' in salut is False\n",
      "'j' or 'k' in salut is False\n",
      "'j' or 'k' not in salut is True\n",
      "'len' is in salut True\n",
      "'wle' is in salut True\n",
      "'wle' is not in salut False\n"
     ]
    }
   ],
   "source": [
    "print \"'s' in salut is\", 's' in salut\n",
    "print \"'j' in salut is\", 'j' in salut\n",
    "print \"'k' in salut is\", 'k' in salut\n",
    "print \"'j' or 'k' in salut is\", ('j' or 'k') in salut\n",
    "print \"'j' or 'k' not in salut is\", ('j' or 'k') not in salut\n",
    "print \"'len' is in salut\", 'len' in salut\n",
    "print \"'wle' is in salut\", 'wle' not in salut\n",
    "print \"'wle' is not in salut\", 'wle' in salut"
   ]
  },
  {
   "cell_type": "markdown",
   "metadata": {},
   "source": [
    "<a id='5.5'></a>\n",
    "## 5.5 Μορφοποίηση Συμβολοσειρών"
   ]
  },
  {
   "cell_type": "code",
   "execution_count": 49,
   "metadata": {
    "collapsed": false
   },
   "outputs": [
    {
     "name": "stdout",
     "output_type": "stream",
     "text": [
      "something is 5 although something else is 15\n",
      "something is 5 , although something else is 15\n",
      "something is 5, although something else is 15\n"
     ]
    }
   ],
   "source": [
    "v = 5\n",
    "w = 15\n",
    "# We want to print \"something is 5, although something is 15\"\n",
    "print 'something is', v, 'although something else is', w\n",
    "# The above ignores the \",\"\n",
    "# Putting it as\n",
    "print 'something is', v, ',', 'although something else is', w\n",
    "# generates an extra space before the \",\"\n",
    "# The easiest way to do it is by formatting the printed string as follows:\n",
    "print 'something is %i, although something else is %i' %(v,w)"
   ]
  },
  {
   "cell_type": "markdown",
   "metadata": {},
   "source": [
    "Η **μορφοποίηση (formatting)** συμβολοσειρών γίνεται (κυρίως) με σύμβολα της μορφής %-, όπως τα εξής:\n",
    "\n",
    "* **%s**: για συμβολοσειρές (ή σύμβολα)\n",
    "* **%i**: για ακέραιους\n",
    "* **%f**: για μη ακέραιους πραγματικούς αριθμούς"
   ]
  },
  {
   "cell_type": "code",
   "execution_count": 83,
   "metadata": {
    "collapsed": false
   },
   "outputs": [
    {
     "name": "stdout",
     "output_type": "stream",
     "text": [
      "The name of my father is Andreas\n",
      "The names of my parents are Andreas and Chrysi\n",
      "The third letter (character) in the word 'Thomas' is 'o'\n",
      "The word Thomas has 6 letters (characters)\n",
      "Dividing 3 by 2 gives 1.500000\n",
      "2**10 = 1024 and 3 // 2 = 1\n"
     ]
    }
   ],
   "source": [
    "print 'The name of my father is %s' %'Andreas'\n",
    "print 'The names of my parents are %s and %s' %('Andreas','Chrysi')\n",
    "name = 'Thomas'\n",
    "index = 2\n",
    "print \"The third letter (character) in the word '%s' is '%s'\" %(name,name[index])\n",
    "print \"The word %s has %i letters (characters)\" %(name,len(name))\n",
    "i = 3\n",
    "j = 2\n",
    "print 'Dividing %i by %i gives %f' %(i,j,i/float(j))\n",
    "print '2**10 = %i and %i // %i = %i' % (2**10, i, j, i//j)"
   ]
  },
  {
   "cell_type": "markdown",
   "metadata": {},
   "source": [
    "**Μορφοποίηση χώρου εκτύπωσης και ακρίβειας (δεκαδικά ψηφία μετά την υποδιαστολή)**"
   ]
  },
  {
   "cell_type": "code",
   "execution_count": 51,
   "metadata": {
    "collapsed": false
   },
   "outputs": [
    {
     "name": "stdout",
     "output_type": "stream",
     "text": [
      "  3.141593\n",
      "3.141593  \n",
      "3.14\n",
      "      3.14\n",
      "3.14\n",
      "Guido\n",
      "Guido\n"
     ]
    }
   ],
   "source": [
    "from math import pi \n",
    "\n",
    "print '%10f' % pi   # Τυπώνει τον αριθμό π μέσα σε 10 διαστήματα στοιχίζοντας από δεξιά (default), \n",
    "                    # οπότε, επειδή ο αριθμός καταλαμβάνει 8 διαστήματα (6 δεκαδικά), \n",
    "                    # τα 2 πρώτα διαστήματα από αριστερά είναι κενά\n",
    "print '%-10f' % pi  # Τυπώνει τον αριθμό π μέσα σε 10 διαστήματα στοιχίζοντας από αριστερά,\n",
    "                    # οπότε το π εμφανίζεται και με τα 6 δεκαδικά (και περισσεύουν 2 κενά δεξιά του)\n",
    "print '%-4.2f' % pi # Τυπώνει τον αριθμό π με ακρίβεια 2 δεκαδικών μέσα σε 4 διαστήματα στοιχίζοντας από αριστερά\n",
    "print '%10.2f' % pi # Τυπώνει τον αριθμό π με ακρίβεια 2 δεκαδικών ψηφίων μέσα σε 10 διαστήματα στοιχίζοντας από δεξιά (default)\n",
    "print '%.2f' % pi   # Τυπώνει τον αριθμό π με ακρίβεια 2 δεκαδικών ψηφίων στοιχίζοντας από αριστερά \n",
    "                    # σε όσα διαστήματα χρειασθούν\n",
    "print '%.5s' % 'Guido van Rossum'      # Ουσιαστικά τυπώνει τα 5 πρώτα γράμματα (χαρακτήρες) της συμβολοσειράς\n",
    "print '%.*s' % (5, 'Guido van Rossum') # Χρήση του * για να ληφθεί το όρισμα από πλειάδα"
   ]
  },
  {
   "cell_type": "markdown",
   "metadata": {},
   "source": [
    "**Στοίχιση Στηλών**:\n",
    "\n",
    "* Η εισαγωγή \"\\t\" (tab) σε μια συμβολοσειρά βάζει τα τμήματά της σε προκαθορισμένες θέσεις.<br/>\n",
    "* Η αλλαγή γραμμής γίνεται με το \"\\n\""
   ]
  },
  {
   "cell_type": "code",
   "execution_count": 52,
   "metadata": {
    "collapsed": false
   },
   "outputs": [
    {
     "name": "stdout",
     "output_type": "stream",
     "text": [
      "Students \tage \tgender \tnationality\n",
      "John \t23 \tmale \tBritish\n",
      "Maria \t25 \tfemale \tGreek\n"
     ]
    }
   ],
   "source": [
    "head = 'Students \\tage \\tgender \\tnationality'\n",
    "line1 = 'John \\t23 \\tmale \\tBritish'\n",
    "line2 = 'Maria \\t25 \\tfemale \\tGreek'\n",
    "print head \n",
    "print line1 \n",
    "print line2"
   ]
  },
  {
   "cell_type": "markdown",
   "metadata": {},
   "source": [
    "Η προηγούμενη μορφοποίηση είναι λάθος. Για να διορθωθεί, προσθέτουμε ένα ακόμη tab σε 2 γραμμές."
   ]
  },
  {
   "cell_type": "code",
   "execution_count": 53,
   "metadata": {
    "collapsed": false
   },
   "outputs": [
    {
     "name": "stdout",
     "output_type": "stream",
     "text": [
      "Students \tage \tgender \tnationality\n",
      "John \t \t23 \tmale \tBritish\n",
      "Maria \t \t25 \tfemale \tGreek\n"
     ]
    }
   ],
   "source": [
    "head = 'Students \\tage \\tgender \\tnationality'\n",
    "line1 = 'John \\t \\t23 \\tmale \\tBritish'\n",
    "line2 = 'Maria \\t \\t25 \\tfemale \\tGreek'\n",
    "print head \n",
    "print line1 \n",
    "print line2"
   ]
  },
  {
   "cell_type": "markdown",
   "metadata": {},
   "source": [
    "Ένα άλλο παράδειγμα λάθους μορφοποίησης είναι ο εξής πίνακας που συνοψίζει τα αποτελέσματα ενός απλού βρόχου (while):"
   ]
  },
  {
   "cell_type": "code",
   "execution_count": 54,
   "metadata": {
    "collapsed": false
   },
   "outputs": [
    {
     "name": "stdout",
     "output_type": "stream",
     "text": [
      "i\ti**2\ti**3\ti**5\ti**10\ti**20\n",
      "1 \t1 \t1 \t1 \t1 \t1\n",
      "2 \t4 \t8 \t32 \t1024 \t1048576\n",
      "3 \t9 \t27 \t243 \t59049 \t3486784401\n",
      "4 \t16 \t64 \t1024 \t1048576 \t1099511627776\n",
      "5 \t25 \t125 \t3125 \t9765625 \t95367431640625\n",
      "6 \t36 \t216 \t7776 \t60466176 \t3656158440062976\n",
      "7 \t49 \t343 \t16807 \t282475249 \t79792266297612001\n",
      "8 \t64 \t512 \t32768 \t1073741824 \t1152921504606846976\n",
      "9 \t81 \t729 \t59049 \t3486784401 \t12157665459056928801\n",
      "10 \t100 \t1000 \t100000 \t10000000000 \t100000000000000000000\n"
     ]
    }
   ],
   "source": [
    "i = 1\n",
    "print 'i\\ti**2\\ti**3\\ti**5\\ti**10\\ti**20'\n",
    "while i <= 10:\n",
    "    print i, '\\t', i**2, '\\t', i**3, '\\t', i**5, '\\t', i**10, '\\t', i**20\n",
    "    i += 1"
   ]
  },
  {
   "cell_type": "markdown",
   "metadata": {},
   "source": [
    "Η διόρθωση της στοίχισης του προηγούμενου πίνακα γίνεται ως εξής:"
   ]
  },
  {
   "cell_type": "code",
   "execution_count": 55,
   "metadata": {
    "collapsed": false
   },
   "outputs": [
    {
     "name": "stdout",
     "output_type": "stream",
     "text": [
      "i   i**2 i**3  i**5    i**10        i**20          \n",
      "1   1    1     1       1            1              \n",
      "2   4    8     32      1024         1048576        \n",
      "3   9    27    243     59049        3486784401     \n",
      "4   16   64    1024    1048576      1099511627776  \n",
      "5   25   125   3125    9765625      95367431640625 \n",
      "6   36   216   7776    60466176     3656158440062976\n",
      "7   49   343   16807   282475249    79792266297612001\n",
      "8   64   512   32768   1073741824   1152921504606846976\n",
      "9   81   729   59049   3486784401   12157665459056928801\n",
      "10  100  1000  100000  10000000000  100000000000000000000\n"
     ]
    }
   ],
   "source": [
    "i = 1\n",
    "print '%-4s%-5s%-6s%-8s%-13s%-15s' % \\\n",
    "      ('i', 'i**2', 'i**3', 'i**5', 'i**10', 'i**20')\n",
    "while i <= 10:\n",
    "    print '%-4i%-5i%-6i%-8i%-13i%-15i' % (i, i**2, i**3, i**5, i**10, i**20)\n",
    "    i += 1"
   ]
  },
  {
   "cell_type": "markdown",
   "metadata": {},
   "source": [
    "<a id='5.6'></a>\n",
    "## 5.6 Ενσωματωμένες (Built-In) Μέθοδοι Συμβολοσειρών"
   ]
  },
  {
   "cell_type": "markdown",
   "metadata": {
    "collapsed": true
   },
   "source": [
    "* **Μέτρηση συχνότητας εμφάνισης υποσυμβολοσειράς: count**\n",
    "* **Τεμαχισμός (Splitting) ως προς υποσυμβολοσειρά: split και rsplit**\n",
    "* **Συνένωση στοιχείων λίστας (ή πλειάδας) μέσω διαχωριστικού: join**\n",
    "* **Αναζήτηση και αντικατάσταση: find, replace κλπ.**\n",
    "* **Απομάκρυνση στοιχείων: strip, rstrip, lstrip**\n",
    "* **Στοίχιση συμβολοσειράς: center, ljust, rjust**\n",
    "* **Μετατροπές πεζών-κεφαλαίων γραμμάτων: lowe, upper κλπ. **\n",
    "* **Έλεγχοι πεζών-κεφαλαίων και τύπων χαρακτήρων: isupper, islower, isalpha, isalnum κλπ.**"
   ]
  },
  {
   "cell_type": "markdown",
   "metadata": {},
   "source": [
    "### Μέτρηση συχνότητας εμφάνισης υποσυμβολοσειράς: \n",
    "* **string.count(s[, start[, end]])**"
   ]
  },
  {
   "cell_type": "code",
   "execution_count": 87,
   "metadata": {
    "collapsed": false
   },
   "outputs": [
    {
     "name": "stdout",
     "output_type": "stream",
     "text": [
      "In the word 'Mississippi', 's' appears 4 times\n",
      "1\n",
      "In the word 'Mississippi', 'pp' appears 1 times\n",
      "In the word 'Mississippi', among the second and the fifth character, 'i' appears 2 times \n",
      "In the word 'Mississippi', among the four last characters, 's' appears 0 times \n"
     ]
    }
   ],
   "source": [
    "str = \"Mississippi\"\n",
    "s = 's'\n",
    "t = 'pp'\n",
    "u = 'i'\n",
    "print \"In the word '%s', '%s' appears %i times\" %(str, s, str.count(s))\n",
    "print 'Mississipi'.count('M')\n",
    "print \"In the word '%s', '%s' appears %i times\" %(str, t, str.count(t))\n",
    "print \"In the word '%s', among the second and the fifth character, '%s' appears %i times \" \\\n",
    "%(str, u, str.count(u,1,5))\n",
    "print \"In the word '%s', among the four last characters, '%s' appears %i times \" \\\n",
    "%(str, s, str.count(s,-4))"
   ]
  },
  {
   "cell_type": "markdown",
   "metadata": {},
   "source": [
    "### Τεμαχισμός (Splitting) ως προς υποσυμβολοσειρά: \n",
    "* **string.split(sep[, maxsplit])** \n",
    "* **string.rsplit(sep[, maxsplit])** "
   ]
  },
  {
   "cell_type": "code",
   "execution_count": 91,
   "metadata": {
    "collapsed": false
   },
   "outputs": [
    {
     "name": "stdout",
     "output_type": "stream",
     "text": [
      "The sentence 'sen' is:\n",
      "Mississippi, AKA, The Magnola State, is the 20th State of the Union.\n",
      "\n",
      "Splitting the sentence 'sen' with respect to 's' gives:\n",
      "['Mi', '', 'i', '', 'ippi, AKA, The Magnola State, i', ' the 20th State of the Union.']\n",
      "\n",
      "Splitting the sentence 'sen' with respect to ',' gives:\n",
      "['Mississippi', ' AKA', ' The Magnola State', ' is the 20th State of the Union.']\n",
      "\n",
      "'['Mississippi', ' AKA', ' The Magnola State', ' is the 20th State of the Union.']' is composed of 4 elements\n",
      "\n",
      "Splitting the sentence 'sen' with respect to ',' but holding only the first two elements gives:\n",
      "['Mississippi', ' AKA, The Magnola State, is the 20th State of the Union.']\n",
      "\n",
      "Splitting the sentence 'sen' with respect to ' ' gives:\n",
      "['Mississippi,', 'AKA,', 'The', 'Magnola', 'State,', 'is', 'the', '20th', 'State', 'of', 'the', 'Union.']\n",
      "\n",
      "Splitting the sentence 'sen' without sep. gives:\n",
      "['Mississippi,', 'AKA,', 'The', 'Magnola', 'State,', 'is', 'the', '20th', 'State', 'of', 'the', 'Union.']\n",
      "\n",
      "'sen.split() == sen.split(sep3)' is True\n",
      "\n",
      "['Hello,', 'world', '!']\n",
      "['Hello,', 'world!']\n",
      "many spaces ['1', '3', '4']\n",
      "The sentence 'sstr' is:\n",
      " 1 2 3 4 \n",
      "\n",
      "Splitting the sentence 'sstr' without sep. gives:\n",
      "['1', '2', '3', '4']\n",
      "\n",
      "Splitting the sentence 'sstr' with respect to ' ' gives:\n",
      "['', '1', '2', '3', '4', '']\n",
      "\n",
      "'sstr.split() == sstr.split(' ')' is False\n",
      "\n",
      "'rsplit' is the same as 'split' but begin at right\n",
      "\n",
      "Splitting the sentence 'sen' with respect to ',' but holding only the first two elements from right gives:\n",
      "['Mississippi, AKA, The Magnola State', ' is the 20th State of the Union.']\n"
     ]
    }
   ],
   "source": [
    "sen = 'Mississippi, AKA, The Magnola State, is the 20th State of the Union.'\n",
    "sep1 = 's'\n",
    "sep2 = ','\n",
    "sep3 = ' '\n",
    "print \"The sentence 'sen' is:\"\n",
    "print sen\n",
    "print\n",
    "print \"Splitting the sentence 'sen' with respect to '%s' gives:\" %sep1\n",
    "print sen.split(sep1)\n",
    "print\n",
    "print \"Splitting the sentence 'sen' with respect to '%s' gives:\" %sep2\n",
    "print sen.split(sep2)\n",
    "print\n",
    "print \"'%s' is composed of %i elements\"  %(sen.split(sep2),len(sen.split(sep2)))\n",
    "print\n",
    "print \"Splitting the sentence 'sen' with respect to '%s' but holding only the first two elements gives:\" %sep2\n",
    "print sen.split(sep2,1)\n",
    "print\n",
    "print \"Splitting the sentence 'sen' with respect to '%s' gives:\" %sep3\n",
    "print sen.split(sep3)\n",
    "print\n",
    "print \"Splitting the sentence 'sen' without sep. gives:\" \n",
    "print sen.split()\n",
    "print\n",
    "print \"'%s' is %s\" %(\"sen.split() == sen.split(sep3)\", sen.split() == sen.split(sep3))\n",
    "print\n",
    "sstr = \" 1 2 3 4 \"\n",
    "sstr1 = \"  1   3 4    \"\n",
    "aa = \"  Hello,    world !  \"\n",
    "print aa.split()\n",
    "print \"  Hello,    world!  \".split()\n",
    "print 'many spaces', sstr1.split()\n",
    "print \"The sentence 'sstr' is:\"\n",
    "print sstr\n",
    "print\n",
    "print \"Splitting the sentence 'sstr' without sep. gives:\" \n",
    "print sstr.split()\n",
    "print\n",
    "print \"Splitting the sentence 'sstr' with respect to '%s' gives:\" %sep3\n",
    "print sstr.split(sep3)\n",
    "print\n",
    "print \"'%s' is %s\" %(\"sstr.split() == sstr.split(' ')\", sstr.split() == sstr.split(' '))\n",
    "print\n",
    "print \"'rsplit' is the same as 'split' but begin at right\"\n",
    "print\n",
    "print \"Splitting the sentence 'sen' with respect to '%s' but holding only the first two elements from right gives:\" %sep2\n",
    "print sen.rsplit(sep2,1)"
   ]
  },
  {
   "cell_type": "markdown",
   "metadata": {},
   "source": [
    "### Συνένωση στοιχείων λίστας (ή πλειάδας) μέσω διαχωριστικού: \n",
    "* **sep.join(list_or_tuple)**"
   ]
  },
  {
   "cell_type": "code",
   "execution_count": 95,
   "metadata": {
    "collapsed": false
   },
   "outputs": [
    {
     "name": "stdout",
     "output_type": "stream",
     "text": [
      "John said: \"Hello, World!\"\n",
      "John said: \"Hello, World!\"\n",
      "John said: \"Hello, World!\"\n",
      "Johnsaid:\"Hello,World!\"\n",
      "John*said:*\"Hello,*World!\"\n"
     ]
    }
   ],
   "source": [
    "a = 'John said:'\n",
    "b = '\"Hello, World!\"'\n",
    "print ' '.join([a,b])\n",
    "print ' '.join((a,b))\n",
    "print ' '.join(['John', 'said:', '\"Hello,', 'World!\"'])\n",
    "print ''.join(['John', 'said:', '\"Hello,', 'World!\"'])\n",
    "print '*'.join(['John', 'said:', '\"Hello,', 'World!\"'])"
   ]
  },
  {
   "cell_type": "markdown",
   "metadata": {},
   "source": [
    "### Αναζήτηση και αντικατάσταση: \n",
    "* **string.find(s[, start[, end]])** \n",
    "* **string.rfind(s[, start[, end]])** \n",
    "* **string.replace(old, new[, times])**\n",
    "* **string.index(s[, start[, end]])** \n",
    "* **string.rindex(s[, start[, end]])** \n",
    "* **string.startswith(prefix[, start[, end]])** \n",
    "* **string.endswith(suffix[, start[, end]])** "
   ]
  },
  {
   "cell_type": "code",
   "execution_count": 102,
   "metadata": {
    "collapsed": false
   },
   "outputs": [
    {
     "name": "stdout",
     "output_type": "stream",
     "text": [
      "The string 'str' is:\n",
      "Mississippi\n",
      "\n",
      "The first occurrence of 's' in 'Mississippi' is at index 2\n",
      "2\n",
      "The first occurrence of 'ss' in 'Mississippi' is at index 2\n",
      "The first occurrence of 'q' in 'Mississippi' is at index -1\n",
      "-1 means that 'q' is not found in 'Mississippi'\n",
      "The first occurrence of 's' from the right in 'Mississippi' is at index 6\n",
      "\n",
      "Replacing 's' by 'q' in 'Mississippi' gives: Miqqiqqippi\n",
      "step stop\n",
      "Replacing 'i' by 'e' in 'Mississippi' for the first 2 occurrences gives: Messessippi\n",
      "Messeppe\n",
      "Messippi\n",
      "\n",
      "'Mississippi' starts with 'M' is True\n",
      "'Mississippi' starts with 'm' is False\n",
      "'Mississippi' from index 3 to index 6 starts with 's' is True\n",
      "'Mississippi' from index 3 to index 6 starts with 'i' is False\n",
      "\n",
      "'Mississippi' ends with 'i' is True\n",
      "'Mississippi' ends with 'e' is False\n",
      "'Mississippi' from index 3 to index 6 ends with 's' is True\n",
      "'Mississippi' from index 3 to index 6 endss with 'i' is False\n",
      "string.find(s) == string.index(s) is True\n"
     ]
    }
   ],
   "source": [
    "str = \"Mississippi\"\n",
    "print \"The string 'str' is:\"\n",
    "print str\n",
    "print\n",
    "s = 's'\n",
    "q = 'q'\n",
    "i = 'i'\n",
    "e = 'e'\n",
    "print \"The first occurrence of '%s' in '%s' is at index %i\" %(s,str,str.find(s))\n",
    "print 'Missippi'.find('s')\n",
    "print \"The first occurrence of '%s' in '%s' is at index %i\" %('ss',str,str.find('ss'))\n",
    "print \"The first occurrence of '%s' in '%s' is at index %i\" %(q,str,str.find(q))\n",
    "print \"-1 means that '%s' is not found in '%s'\" %(q,str)\n",
    "print \"The first occurrence of '%s' from the right in '%s' is at index %i\" %(s,str,str.rfind(s))\n",
    "print\n",
    "print \"Replacing '%s' by '%s' in '%s' gives: %s\" %(s,q,str,str.replace(s,q))\n",
    "print 'step', 'step'.replace('e','o')\n",
    "print \"Replacing '%s' by '%s' in '%s' for the first 2 occurrences gives: %s\" %(i,e,str,str.replace(i,e,2))\n",
    "print 'Missippi'.replace('i','e')\n",
    "print 'Missippi'.replace('i','e',1)\n",
    "print\n",
    "print \"'%s' starts with '%s' is %s\" %(str,'M',str.startswith('M'))\n",
    "print \"'%s' starts with '%s' is %s\" %(str,'m',str.startswith('m'))\n",
    "print \"'%s' from index %i to index %i starts with '%s' is %s\" %(str,3,6,s,str.startswith(s,3,6))\n",
    "print \"'%s' from index %i to index %i starts with '%s' is %s\" %(str,3,6,i,str.startswith(i,3,6))\n",
    "print\n",
    "print \"'%s' ends with '%s' is %s\" %(str,i,str.endswith(i))\n",
    "print \"'%s' ends with '%s' is %s\" %(str,e,str.endswith(e))\n",
    "print \"'%s' from index %i to index %i ends with '%s' is %s\" %(str,3,6,s,str.endswith(s,3,6))\n",
    "print \"'%s' from index %i to index %i endss with '%s' is %s\" %(str,3,6,i,str.endswith(i,3,6))\n",
    "print \"string.find(s) == string.index(s) is\", 'Mississippi'.find('i') == 'Mississippi'.index('i')"
   ]
  },
  {
   "cell_type": "code",
   "execution_count": 60,
   "metadata": {
    "collapsed": false
   },
   "outputs": [
    {
     "name": "stdout",
     "output_type": "stream",
     "text": [
      "The first occurrence of 's' in 'Mississippi' is at index 2\n"
     ]
    },
    {
     "ename": "ValueError",
     "evalue": "substring not found",
     "output_type": "error",
     "traceback": [
      "\u001b[0;31m---------------------------------------------------------------------------\u001b[0m",
      "\u001b[0;31mValueError\u001b[0m                                Traceback (most recent call last)",
      "\u001b[0;32m<ipython-input-60-51ef34555cc0>\u001b[0m in \u001b[0;36m<module>\u001b[0;34m()\u001b[0m\n\u001b[1;32m      1\u001b[0m \u001b[0;31m# \"index\" is the same with \"find\" but it but raises ValueError when the substring is not found\u001b[0m\u001b[0;34m\u001b[0m\u001b[0;34m\u001b[0m\u001b[0m\n\u001b[1;32m      2\u001b[0m \u001b[0;32mprint\u001b[0m \u001b[0;34m\"The first occurrence of '%s' in '%s' is at index %i\"\u001b[0m \u001b[0;34m%\u001b[0m\u001b[0;34m(\u001b[0m\u001b[0ms\u001b[0m\u001b[0;34m,\u001b[0m\u001b[0mstr\u001b[0m\u001b[0;34m,\u001b[0m\u001b[0mstr\u001b[0m\u001b[0;34m.\u001b[0m\u001b[0mindex\u001b[0m\u001b[0;34m(\u001b[0m\u001b[0ms\u001b[0m\u001b[0;34m)\u001b[0m\u001b[0;34m)\u001b[0m\u001b[0;34m\u001b[0m\u001b[0m\n\u001b[0;32m----> 3\u001b[0;31m \u001b[0;32mprint\u001b[0m \u001b[0;34m\"The first occurrence of '%s' in '%s' is at index %i\"\u001b[0m \u001b[0;34m%\u001b[0m\u001b[0;34m(\u001b[0m\u001b[0mq\u001b[0m\u001b[0;34m,\u001b[0m\u001b[0mstr\u001b[0m\u001b[0;34m,\u001b[0m\u001b[0mstr\u001b[0m\u001b[0;34m.\u001b[0m\u001b[0mindex\u001b[0m\u001b[0;34m(\u001b[0m\u001b[0mq\u001b[0m\u001b[0;34m)\u001b[0m\u001b[0;34m)\u001b[0m\u001b[0;34m\u001b[0m\u001b[0m\n\u001b[0m",
      "\u001b[0;31mValueError\u001b[0m: substring not found"
     ]
    }
   ],
   "source": [
    "# \"index\" is the same with \"find\" but it but raises ValueError when the substring is not found\n",
    "print \"The first occurrence of '%s' in '%s' is at index %i\" %(s,str,str.index(s))\n",
    "print \"The first occurrence of '%s' in '%s' is at index %i\" %(q,str,str.index(q))"
   ]
  },
  {
   "cell_type": "markdown",
   "metadata": {},
   "source": [
    "### Απομάκρυνση στοιχείων:\n",
    "* **string.strip(chars)**\n",
    "* **string.rstrip(chars)**\n",
    "* **string.lstrip(chars)**"
   ]
  },
  {
   "cell_type": "markdown",
   "metadata": {},
   "source": [
    "** string.strip() == string.strip(' ')** removes whitespace from the beginning or/and the end\n",
    "\n",
    "** string.rstrip() == string.rstrip(' ')** removes whitespace from the beginning \n",
    "\n",
    "** string.lstrip() == string.lstrip(' ')** removes whitespace from the end"
   ]
  },
  {
   "cell_type": "code",
   "execution_count": 108,
   "metadata": {
    "collapsed": false
   },
   "outputs": [
    {
     "name": "stdout",
     "output_type": "stream",
     "text": [
      "'  Mississippi'.strip() is 'Mississippi'\n",
      "'  Mississippi'.rstrip() is '  Mississippi'\n",
      "'  Mississippi'.lstrip() is 'Mississippi'\n",
      "\n",
      "'Mississippi  '.strip() is 'Mississippi'\n",
      "'Mississippi  '.rstrip() is 'Mississippi'\n",
      "'Mississippi  '.lstrip() is 'Mississippi  '\n",
      "\n",
      "' Mississippi  '.strip() is 'Mississippi'\n",
      "' Mississippi  '.rstrip() is ' Mississippi'\n",
      "' Mississippi  '.lstrip() is 'Mississippi  '\n",
      "\n",
      "'  Mississippi'.strip() == '  Mississippi'.strip(' ') is True\n",
      "'Mississippi  '.rstrip() == 'Mississippi  '.rstrip(' ') is True\n",
      "' Mississippi  '.lstrip() == ' Mississippi  '.lstrip(' ') is True\n",
      "ississippi\n"
     ]
    }
   ],
   "source": [
    "str1 = '  Mississippi'\n",
    "str2 = 'Mississippi  '\n",
    "str3 = ' Mississippi  '\n",
    "\n",
    "print \"'%s'.strip() is '%s'\" %(str1,str1.strip())\n",
    "print \"'%s'.rstrip() is '%s'\" %(str1,str1.rstrip())\n",
    "print \"'%s'.lstrip() is '%s'\" %(str1,str1.lstrip())\n",
    "print\n",
    "print \"'%s'.strip() is '%s'\" %(str2,str2.strip())\n",
    "print \"'%s'.rstrip() is '%s'\" %(str2,str2.rstrip())\n",
    "print \"'%s'.lstrip() is '%s'\" %(str2,str2.lstrip())\n",
    "print\n",
    "print \"'%s'.strip() is '%s'\" %(str3,str3.strip())\n",
    "print \"'%s'.rstrip() is '%s'\" %(str3,str3.rstrip())\n",
    "print \"'%s'.lstrip() is '%s'\" %(str3,str3.lstrip())\n",
    "print\n",
    "print \"'%s'.strip() == '%s'.strip(' ') is %s\" %(str1, str1, str1.strip() == str1.strip(' '))\n",
    "print \"'%s'.rstrip() == '%s'.rstrip(' ') is %s\" %(str2, str2, str2.rstrip() == str2.rstrip(' '))\n",
    "print \"'%s'.lstrip() == '%s'.lstrip(' ') is %s\" %(str3, str3, str3.lstrip() == str3.lstrip(' '))\n",
    "print 'Mississippi'.strip('M')"
   ]
  },
  {
   "cell_type": "code",
   "execution_count": 62,
   "metadata": {
    "collapsed": false
   },
   "outputs": [
    {
     "name": "stdout",
     "output_type": "stream",
     "text": [
      "'Python is easy to learn'.rstrip('learn') is 'Python is easy to '\n",
      "'Python is easy to learn'.lstrip('Python') is ' is easy to learn'\n"
     ]
    }
   ],
   "source": [
    "strr = 'Python is easy to learn'\n",
    "print \"'%s'.rstrip('learn') is '%s'\" %(strr,strr.rstrip('learn'))\n",
    "print \"'%s'.lstrip('Python') is '%s'\" %(strr,strr.lstrip('Python'))"
   ]
  },
  {
   "cell_type": "markdown",
   "metadata": {},
   "source": [
    "### Στοίχιση συμβολοσειράς: \n",
    "* **string.center(n), string.center(width,'char')** \n",
    "* **string.ljust(n), string.ljust(width,'char')** \n",
    "* **string.rjust(n), string.rjust(width,'char')**"
   ]
  },
  {
   "cell_type": "code",
   "execution_count": 113,
   "metadata": {
    "collapsed": false
   },
   "outputs": [
    {
     "name": "stdout",
     "output_type": "stream",
     "text": [
      "\"         Mississippi          \"\n",
      "\"*********Mississippi**********\"\n",
      "\"*********Mississippi**********\"\n",
      "\"Mississippi\"\n",
      "The length of the string \"Mississippi\" is 11\n",
      "\n",
      "\"     Mississippi     \"\n",
      "The length of the string \"     Mississippi     \" is 21\n",
      "\"     Mississippi     \" has 10 spaces divided at the beginning and the end\n",
      "\n",
      "\"Mississippi          \"\n",
      "The length of the string \"Mississippi          \" is 21\n",
      "\"Mississippi          \" has 10 spaces at the end\n",
      "\n",
      "\"          Mississippi\"\n",
      "The length of the string \"          Mississippi\" is 21\n",
      "\"          Mississippi\" has 10 spaces at the beginning\n",
      "\n",
      "\"***Mississippi***\"\n",
      "The length of the string \"***Mississippi***\" is 17\n",
      "\"***Mississippi***\" has 6 spaces divided at the beginning and the end\n",
      "\n",
      "\"Mississippi******\"\n",
      "The length of the string \"Mississippi******\" is 17\n",
      "\"Mississippi******\" has 6 spaces at the end\n",
      "\n",
      "\"******Mississippi\"\n",
      "The length of the string \"******Mississippi\" is 17\n",
      "\"******Mississippi\" has 6 spaces at the beginning\n"
     ]
    }
   ],
   "source": [
    "print '\"%s\"' %'Mississippi'.center(30)\n",
    "print '\"%s\"' %'Mississippi'.center(30).replace(' ','*')\n",
    "print '\"%s\"' %('Mississippi'.center(30)).replace(' ','*')\n",
    "print '\"%s\"' %('Mississippi')\n",
    "l1 = len('Mississippi')\n",
    "print 'The length of the string \"%s\" is %s' %('Mississippi',l1)\n",
    "print\n",
    "print '\"%s\"' %('Mississippi'.center(21))\n",
    "l2 = len('Mississippi'.center(21))\n",
    "print 'The length of the string \"%s\" is %s' %('Mississippi'.center(21),l2)\n",
    "print '\"%s\" has %i spaces divided at the beginning and the end' %('Mississippi'.center(21),l2-l1)\n",
    "print\n",
    "print '\"%s\"' %('Mississippi'.ljust(21))\n",
    "l2 = len('Mississippi'.ljust(21))\n",
    "print 'The length of the string \"%s\" is %s' %('Mississippi'.ljust(21),l2)\n",
    "print '\"%s\" has %i spaces at the end' %('Mississippi'.ljust(21),l2-l1)\n",
    "print\n",
    "print '\"%s\"' %('Mississippi'.rjust(21))\n",
    "l2 = len('Mississippi'.rjust(21))\n",
    "print 'The length of the string \"%s\" is %s' %('Mississippi'.rjust(21),l2)\n",
    "print '\"%s\" has %i spaces at the beginning' %('Mississippi'.rjust(21),l2-l1)\n",
    "print\n",
    "print '\"%s\"' %('Mississippi'.center(17,'*'))\n",
    "l2 = len('Mississippi'.center(17,'*'))\n",
    "print 'The length of the string \"%s\" is %s' %('Mississippi'.center(17,'*'),l2)\n",
    "print '\"%s\" has %i spaces divided at the beginning and the end' %('Mississippi'.center(17,'*'),l2-l1)\n",
    "print\n",
    "print '\"%s\"' %('Mississippi'.ljust(17,'*'))\n",
    "l2 = len('Mississippi'.ljust(17,'*'))\n",
    "print 'The length of the string \"%s\" is %s' %('Mississippi'.ljust(17,'*'),l2)\n",
    "print '\"%s\" has %i spaces at the end' %('Mississippi'.ljust(17,'*'),l2-l1)\n",
    "print\n",
    "print '\"%s\"' %('Mississippi'.rjust(17,'*'))\n",
    "l2 = len('Mississippi'.rjust(17,'*'))\n",
    "print 'The length of the string \"%s\" is %s' %('Mississippi'.rjust(17,'*'),l2)\n",
    "print '\"%s\" has %i spaces at the beginning' %('Mississippi'.rjust(17,'*'),l2-l1)"
   ]
  },
  {
   "cell_type": "markdown",
   "metadata": {
    "collapsed": true
   },
   "source": [
    "### Μετατροπές πεζών-κεφαλαίων γραμμάτων:\n",
    "* **string.lower()**\n",
    "* **string.upper()**\n",
    "* **string.capitalize()** Επιστρέφει κεφαλαίο μόνο τον πρώτο χαρακτήρα\n",
    "* **string.swapcase()**\n",
    "* **string.title()**"
   ]
  },
  {
   "cell_type": "code",
   "execution_count": 118,
   "metadata": {
    "collapsed": false
   },
   "outputs": [
    {
     "name": "stdout",
     "output_type": "stream",
     "text": [
      "john said: \"hello, world!\"\n",
      "\n",
      "JOHN SAID: \"HELLO, WORLD!\"\n",
      "\n",
      "John said: \"hello, world!\"\n",
      "aaa John said: \"hello, world!\"\n",
      "jOHN SAID: \"hELLO, wORLD!\"\n",
      "\n",
      "John Said: \"Hello, World!\"\n",
      "\n",
      "John\n"
     ]
    }
   ],
   "source": [
    "stj = 'John said: \"Hello, World!\"'\n",
    "print stj.lower()\n",
    "print\n",
    "print stj.upper()\n",
    "print\n",
    "print stj.capitalize()\n",
    "print 'aaa', stj.upper().capitalize()\n",
    "print stj.swapcase()\n",
    "print\n",
    "stj1 = stj.upper()\n",
    "print stj1.title()\n",
    "print\n",
    "print 'John'.capitalize()"
   ]
  },
  {
   "cell_type": "markdown",
   "metadata": {
    "collapsed": true
   },
   "source": [
    "### Έλεγχοι πεζών-κεφαλαίων και τύπων χαρακτήρων: \n",
    "* **string.isupper()**\n",
    "* **string.islower()**\n",
    "* **string.istitle()**\n",
    "* **string.isalpha()**\n",
    "* **string.isdigit()**\n",
    "* **string.isalnum()**"
   ]
  },
  {
   "cell_type": "code",
   "execution_count": 65,
   "metadata": {
    "collapsed": false
   },
   "outputs": [
    {
     "name": "stdout",
     "output_type": "stream",
     "text": [
      "All letters in 'john said: \"hello, world!\"' are lower-case is True\n",
      "All letters in 'John said: \"Hello, World!\"' are lower-case is False\n",
      "All letters in 'JOHN SAID: \"HELLO, WORLD!\"' are upper-case is True\n",
      "All letters in 'John said: \"Hello, World!\"' are upper-case is False\n",
      "Is 'John said: \"Hello, World!\"' a title? False\n",
      "Is 'John Said: \"Hello, World!\"' a title? True\n",
      "\n",
      "Are all characters of 'Hello World' letters? False\n",
      "Are all characters of 'World' letters? True\n",
      "Are all characters of 'World56' letters? False\n",
      "Are all characters of '314' letters? False\n",
      "\n",
      "Are all characters of 'World' digit? False\n",
      "Are all characters of '3.14' digit? False\n",
      "Are all characters of '314' digit? True\n",
      "\n",
      "Are all characters of 'Hello World' alphanumeric? False\n",
      "Are all characters of 'World' alphanumeric? True\n",
      "Are all characters of 'World 56' alphanumeric? False\n",
      "Are all characters of 'World56' alphanumeric? True\n",
      "Are all characters of '3.14' alphanumeric? False\n",
      "Are all characters of '314' alphanumeric? True\n"
     ]
    }
   ],
   "source": [
    "print \"All letters in '%s' are lower-case is %s\" %(stj.lower(),stj.lower().islower())\n",
    "print \"All letters in '%s' are lower-case is %s\" %(stj,stj.islower())\n",
    "print \"All letters in '%s' are upper-case is %s\" %(stj.upper(),stj.upper().isupper())\n",
    "print \"All letters in '%s' are upper-case is %s\" %(stj,stj.isupper())\n",
    "print \"Is '%s' a title? %s\" %(stj,stj.istitle())\n",
    "print \"Is '%s' a title? %s\" %(stj.title(),stj.title().istitle())\n",
    "print\n",
    "print \"Are all characters of '%s' letters? %s\" %('Hello World','Hello World'.isalpha())\n",
    "print \"Are all characters of '%s' letters? %s\" %('World','World'.isalpha())\n",
    "# print \"Are all characters of '%s' letters? %s\" %('World 56','World 56'.isalpha())\n",
    "print \"Are all characters of '%s' letters? %s\" %('World56','World56'.isalpha())\n",
    "# print \"Are all characters of '%s' letters? %s\" %('3.14','3.14'.isalpha())\n",
    "print \"Are all characters of '%s' letters? %s\" %('314','314'.isalpha())\n",
    "print\n",
    "print \"Are all characters of '%s' digit? %s\" %('World','World'.isdigit())\n",
    "print \"Are all characters of '%s' digit? %s\" %('3.14','3.14'.isdigit())\n",
    "print \"Are all characters of '%s' digit? %s\" %('314','314'.isdigit())\n",
    "print\n",
    "print \"Are all characters of '%s' alphanumeric? %s\" %('Hello World','Hello World'.isalnum())\n",
    "print \"Are all characters of '%s' alphanumeric? %s\" %('World','World'.isalnum())\n",
    "print \"Are all characters of '%s' alphanumeric? %s\" %('World 56','World 56'.isalnum())\n",
    "print \"Are all characters of '%s' alphanumeric? %s\" %('World56','World56'.isalnum())\n",
    "print \"Are all characters of '%s' alphanumeric? %s\" %('3.14','3.14'.isalnum())\n",
    "print \"Are all characters of '%s' alphanumeric? %s\" %('314','314'.isalnum())"
   ]
  },
  {
   "cell_type": "markdown",
   "metadata": {
    "collapsed": true
   },
   "source": [
    "<a id='5.7'></a>\n",
    "## 5.7 Άνοιγμα-Κλείσιμο, Διάβασμα-Γράψιμο Αρχείων Κειμένου"
   ]
  },
  {
   "cell_type": "markdown",
   "metadata": {},
   "source": [
    "* **Οι συναρτήσεις open, read, write, close, seek**\n",
    "* **Διάβασμα γραμμών με read, readline, readlines**"
   ]
  },
  {
   "cell_type": "markdown",
   "metadata": {},
   "source": [
    "### Οι συναρτήσεις open, read, write, close, seek:\n",
    "* **fileObject = open(fileName, mode)**\n",
    "<p/>\n",
    "όπου **fileName** είναι το όνομα του αρχείου **κειμένου** που θέλουμε να ανοίξουμε στην Python και \n",
    "<br/>\n",
    "**mode** είναι ένα από τα εξής (μεταξύ άλλων λιγότερο συχνών):\n",
    "<p/>\n",
    "* **r**: Για διάβασμα μόνο (default mode). Το αρχείο πρέπει να υπάρχει, αλλιώς λάθος.\n",
    "* **r+**: Για διάβασμα και γράψιμο (οπουδήποτε στο κείμενο).\n",
    "* **w**: Για γράψιμο μόνο (πάνω στο και με αποκοπή του προηγούμενου). Το αρχείο δημιουργείται ως νέο αν δεν υπάρχει.\n",
    "* **a**: Για προσάρτηση στο τέλος του αρχείου (το ίδιο με το r+ για γράψιμο στο τέλος).\n",
    "<p/>\n",
    "Το **διάβασμα** - **γράψιμο** - **κλείσιμο** (μετά το γράψιμο) γίνονται με τις εντολές:\n",
    "<p/>\n",
    "* **fileObject.read()**\n",
    "* **fileObject.write()**\n",
    "* **fileObject.close()**\n",
    "<p/>\n",
    "Η **τοποθέτηση του δείκτη** γραφής (ανάγνωσης) σε συγκεκριμένη θέση γίνεται με την εντολή:\n",
    "<p/>\n",
    "* **fileObject.seek(n,whence)**\n",
    "<p/>\n",
    "**whence = 0** ως προς την αρχή του αρχείου<br/>\n",
    "**whence = 1** ως προς την τρέχουσα θέση του δείκτου<br/>\n",
    "**whence = 2** ως προς το τέλος του αρχείου"
   ]
  },
  {
   "cell_type": "code",
   "execution_count": 66,
   "metadata": {
    "collapsed": false
   },
   "outputs": [
    {
     "name": "stdout",
     "output_type": "stream",
     "text": [
      "Second Life is an online virtual world, developed by San Francisco-based Linden Lab and launched on June 23, 2003; and which in 2014 had about 1 million regular users, according to Linden Lab, who owns Second Life. In many ways, Second Life is similar to MMORPGs (Massively Multiplayer Online Role Playing Games); however, Linden Lab is emphatic that their creation is not a game: \"There is no manufactured conflict, no set objective\".\n",
      "\n",
      "The virtual world can be accessed freely via Linden Lab's own client programs, or via alternative Third Party Viewers. Second Life users (also called Residents) create virtual representations of themselves, called avatars and are able to interact with other avatars, places or objects. They can explore the world (known as the grid), meet other residents, socialize, participate in individual and group activities, build, create, shop and trade virtual property and services with one another! It is a platform that principally features 3D-based user-generated content. Second Life also has its own virtual currency, the Linden Dollar, which is exchangeable with real world currency. Second Life is intended for people aged 16 and over, with the exception of 13–15-year-old users restricted to the Second Life region of a sponsoring institution (e.g. school).\n",
      "\n",
      "Built into the software is a three-dimensional modeling tool based on simple geometric shapes that allows residents to build virtual objects. There is also a procedural scripting language, Linden Scripting Language, which can be used to add interactivity to objects. Sculpted prims (sculpties), mesh, textures for clothing or other objects, animations, and gestures can be created using external software and imported. The Second Life terms of service provide that users retain copyright for any content they create, and the server and client provide simple digital rights management (DRM) functions. However, Linden Lab changed their terms of service in August 2013, to be able to use user-generated content for any purpose. The new terms of service prevents users from using textures from 3rd-party texture services, as some of them pointed out explicitly. Users can also photograph in Second Life with the camera technology the client programs have!\n",
      "\n",
      "\"If Second Life isn't a game, what is it? - Technology & science - Games - On the Level\". NBC News. 2007-12-03. Retrieved 2014-08-01. \"UPDATED Was Cory Linden fired, or did he quit?\". Massively. December 13, 2007. Retrieved February 19, 2010.THE END\n"
     ]
    }
   ],
   "source": [
    "f = open('test1.txt','r')\n",
    "print f.read()"
   ]
  },
  {
   "cell_type": "code",
   "execution_count": 67,
   "metadata": {
    "collapsed": false
   },
   "outputs": [
    {
     "name": "stdout",
     "output_type": "stream",
     "text": [
      "<open file 'test1.txt', mode 'r' at 0x103a77d20>\n"
     ]
    }
   ],
   "source": [
    "print f"
   ]
  },
  {
   "cell_type": "code",
   "execution_count": 68,
   "metadata": {
    "collapsed": false
   },
   "outputs": [
    {
     "ename": "IOError",
     "evalue": "File not open for writing",
     "output_type": "error",
     "traceback": [
      "\u001b[0;31m---------------------------------------------------------------------------\u001b[0m",
      "\u001b[0;31mIOError\u001b[0m                                   Traceback (most recent call last)",
      "\u001b[0;32m<ipython-input-68-f240f6112a1e>\u001b[0m in \u001b[0;36m<module>\u001b[0;34m()\u001b[0m\n\u001b[0;32m----> 1\u001b[0;31m \u001b[0mf\u001b[0m\u001b[0;34m.\u001b[0m\u001b[0mwrite\u001b[0m\u001b[0;34m(\u001b[0m\u001b[0;34m)\u001b[0m\u001b[0;34m\u001b[0m\u001b[0m\n\u001b[0m",
      "\u001b[0;31mIOError\u001b[0m: File not open for writing"
     ]
    }
   ],
   "source": [
    "f.write()"
   ]
  },
  {
   "cell_type": "code",
   "execution_count": 69,
   "metadata": {
    "collapsed": false
   },
   "outputs": [
    {
     "name": "stdout",
     "output_type": "stream",
     "text": [
      "Second Life is an online virtual world, developed by San Francisco-based Linden Lab and launched on June 23, 2003; and which in 2014 had about 1 million regular users, according to Linden Lab, who owns Second Life. In many ways, Second Life is similar to MMORPGs (Massively Multiplayer Online Role Playing Games); however, Linden Lab is emphatic that their creation is not a game: \"There is no manufactured conflict, no set objective\".\n",
      "\n",
      "The virtual world can be accessed freely via Linden Lab's own client programs, or via alternative Third Party Viewers. Second Life users (also called Residents) create virtual representations of themselves, called avatars and are able to interact with other avatars, places or objects. They can explore the world (known as the grid), meet other residents, socialize, participate in individual and group activities, build, create, shop and trade virtual property and services with one another! It is a platform that principally features 3D-based user-generated content. Second Life also has its own virtual currency, the Linden Dollar, which is exchangeable with real world currency. Second Life is intended for people aged 16 and over, with the exception of 13–15-year-old users restricted to the Second Life region of a sponsoring institution (e.g. school).\n",
      "\n",
      "Built into the software is a three-dimensional modeling tool based on simple geometric shapes that allows residents to build virtual objects. There is also a procedural scripting language, Linden Scripting Language, which can be used to add interactivity to objects. Sculpted prims (sculpties), mesh, textures for clothing or other objects, animations, and gestures can be created using external software and imported. The Second Life terms of service provide that users retain copyright for any content they create, and the server and client provide simple digital rights management (DRM) functions. However, Linden Lab changed their terms of service in August 2013, to be able to use user-generated content for any purpose. The new terms of service prevents users from using textures from 3rd-party texture services, as some of them pointed out explicitly. Users can also photograph in Second Life with the camera technology the client programs have!\n",
      "\n",
      "\"If Second Life isn't a game, what is it? - Technology & science - Games - On the Level\". NBC News. 2007-12-03. Retrieved 2014-08-01. \"UPDATED Was Cory Linden fired, or did he quit?\". Massively. December 13, 2007. Retrieved February 19, 2010.THE END\n"
     ]
    }
   ],
   "source": [
    "f = open('test1.txt','r+')\n",
    "print f.read()"
   ]
  },
  {
   "cell_type": "code",
   "execution_count": 70,
   "metadata": {
    "collapsed": false,
    "scrolled": false
   },
   "outputs": [
    {
     "name": "stdout",
     "output_type": "stream",
     "text": [
      "Second Life is an online virtual world, developed by San Francisco-based Linden Lab and launched on June 23, 2003; and which in 2014 had about 1 million regular users, according to Linden Lab, who owns Second Life. In many ways, Second Life is similar to MMORPGs (Massively Multiplayer Online Role Playing Games); however, Linden Lab is emphatic that their creation is not a game: \"There is no manufactured conflict, no set objective\".\n",
      "\n",
      "The virtual world can be accessed freely via Linden Lab's own client programs, or via alternative Third Party Viewers. Second Life users (also called Residents) create virtual representations of themselves, called avatars and are able to interact with other avatars, places or objects. They can explore the world (known as the grid), meet other residents, socialize, participate in individual and group activities, build, create, shop and trade virtual property and services with one another! It is a platform that principally features 3D-based user-generated content. Second Life also has its own virtual currency, the Linden Dollar, which is exchangeable with real world currency. Second Life is intended for people aged 16 and over, with the exception of 13–15-year-old users restricted to the Second Life region of a sponsoring institution (e.g. school).\n",
      "\n",
      "Built into the software is a three-dimensional modeling tool based on simple geometric shapes that allows residents to build virtual objects. There is also a procedural scripting language, Linden Scripting Language, which can be used to add interactivity to objects. Sculpted prims (sculpties), mesh, textures for clothing or other objects, animations, and gestures can be created using external software and imported. The Second Life terms of service provide that users retain copyright for any content they create, and the server and client provide simple digital rights management (DRM) functions. However, Linden Lab changed their terms of service in August 2013, to be able to use user-generated content for any purpose. The new terms of service prevents users from using textures from 3rd-party texture services, as some of them pointed out explicitly. Users can also photograph in Second Life with the camera technology the client programs have!\n",
      "\n",
      "\"If Second Life isn't a game, what is it? - Technology & science - Games - On the Level\". NBC News. 2007-12-03. Retrieved 2014-08-01. \"UPDATED Was Cory Linden fired, or did he quit?\". Massively. December 13, 2007. Retrieved February 19, 2010.THE END*****\n"
     ]
    }
   ],
   "source": [
    "f.write('*****')\n",
    "f = open('test1.txt','r')\n",
    "print f.read()"
   ]
  },
  {
   "cell_type": "code",
   "execution_count": 71,
   "metadata": {
    "collapsed": false
   },
   "outputs": [
    {
     "name": "stdout",
     "output_type": "stream",
     "text": [
      "Second Life is an online virtual world, developed by San Francisco-based Linden Lab and launched on June 23, 2003; and which in 2014 had about 1 million regular users, according to Linden Lab, who owns Second Life. In many ways, Second Life is similar to MMORPGs (Massively Multiplayer Online Role Playing Games); however, Linden Lab is emphatic that their creation is not a game: \"There is no manufactured conflict, no set objective\".\n",
      "\n",
      "The virtual world can be accessed freely via Linden Lab's own client programs, or via alternative Third Party Viewers. Second Life users (also called Residents) create virtual representations of themselves, called avatars and are able to interact with other avatars, places or objects. They can explore the world (known as the grid), meet other residents, socialize, participate in individual and group activities, build, create, shop and trade virtual property and services with one another! It is a platform that principally features 3D-based user-generated content. Second Life also has its own virtual currency, the Linden Dollar, which is exchangeable with real world currency. Second Life is intended for people aged 16 and over, with the exception of 13–15-year-old users restricted to the Second Life region of a sponsoring institution (e.g. school).\n",
      "\n",
      "Built into the software is a three-dimensional modeling tool based on simple geometric shapes that allows residents to build virtual objects. There is also a procedural scripting language, Linden Scripting Language, which can be used to add interactivity to objects. Sculpted prims (sculpties), mesh, textures for clothing or other objects, animations, and gestures can be created using external software and imported. The Second Life terms of service provide that users retain copyright for any content they create, and the server and client provide simple digital rights management (DRM) functions. However, Linden Lab changed their terms of service in August 2013, to be able to use user-generated content for any purpose. The new terms of service prevents users from using textures from 3rd-party texture services, as some of them pointed out explicitly. Users can also photograph in Second Life with the camera technology the client programs have!\n",
      "\n",
      "\"If Second Life isn't a game, what is it? - Technology & science - Games - On the Level\". NBC News. 2007-12-03. Retrieved 2014-08-01. \"UPDATED Was Cory Linden fired, or did he quit?\". Massively. December 13, 2007. Retrieved February 19, 2010.THE END     \n"
     ]
    }
   ],
   "source": [
    "f = open('test1.txt','r+')\n",
    "f.seek(-5,2)\n",
    "f.write('     ')\n",
    "f.close()\n",
    "f = open('test1.txt','r')\n",
    "print f.read()"
   ]
  },
  {
   "cell_type": "code",
   "execution_count": 72,
   "metadata": {
    "collapsed": false
   },
   "outputs": [
    {
     "name": "stdout",
     "output_type": "stream",
     "text": [
      "Second Life is an online virtual world, developed by San Francisco-based Linden Lab and launched on June 23, 2003; and which in 2014 had about 1 million regular users, according to Linden Lab, who owns Second Life. In many ways, Second Life is similar to MMORPGs (Massively Multiplayer Online Role Playing Games); however, Linden Lab is emphatic that their creation is not a game: \"There is no manufactured conflict, no set objective\".\n",
      "\n",
      "The virtual world can be accessed freely via Linden Lab's own client programs, or via alternative Third Party Viewers. Second Life users (also called Residents) create virtual representations of themselves, called avatars and are able to interact with other avatars, places or objects. They can explore the world (known as the grid), meet other residents, socialize, participate in individual and group activities, build, create, shop and trade virtual property and services with one another! It is a platform that principally features 3D-based user-generated content. Second Life also has its own virtual currency, the Linden Dollar, which is exchangeable with real world currency. Second Life is intended for people aged 16 and over, with the exception of 13–15-year-old users restricted to the Second Life region of a sponsoring institution (e.g. school).\n",
      "\n",
      "Built into the software is a three-dimensional modeling tool based on simple geometric shapes that allows residents to build virtual objects. There is also a procedural scripting language, Linden Scripting Language, which can be used to add interactivity to objects. Sculpted prims (sculpties), mesh, textures for clothing or other objects, animations, and gestures can be created using external software and imported. The Second Life terms of service provide that users retain copyright for any content they create, and the server and client provide simple digital rights management (DRM) functions. However, Linden Lab changed their terms of service in August 2013, to be able to use user-generated content for any purpose. The new terms of service prevents users from using textures from 3rd-party texture services, as some of them pointed out explicitly. Users can also photograph in Second Life with the camera technology the client programs have!\n",
      "\n",
      "\"If Second Life isn't a game, what is it? - Technology & science - Games - On the Level\". NBC News. 2007-12-03. Retrieved 2014-08-01. \"UPDATED Was Cory Linden fired, or did he quit?\". Massively. December 13, 2007. Retrieved February 19, 2010.THE END     THE END\n"
     ]
    }
   ],
   "source": [
    "f = open('test1.txt','a')\n",
    "f.write('THE END')\n",
    "f.close()\n",
    "f = open('test1.txt','r')\n",
    "print f.read()"
   ]
  },
  {
   "cell_type": "markdown",
   "metadata": {},
   "source": [
    "#### Τα w και write δημιουργούν (εγγράφουν) νέο αρχείο"
   ]
  },
  {
   "cell_type": "code",
   "execution_count": 73,
   "metadata": {
    "collapsed": false
   },
   "outputs": [
    {
     "name": "stdout",
     "output_type": "stream",
     "text": [
      "John said: 'Hello, world!'\n",
      "and everybody smiled\n",
      "\n"
     ]
    }
   ],
   "source": [
    "fnew = open('newfile.txt','w')\n",
    "fnew.write(\"John said: 'Hello, world!'\\n\") #'\\n' means end of line\n",
    "fnew.write('and everybody smiled\\n')\n",
    "fnew.close()\n",
    "f = open('newfile.txt','r')\n",
    "print f.read()"
   ]
  },
  {
   "cell_type": "markdown",
   "metadata": {},
   "source": [
    "#### Τα r+ και write παρεμβάλλουν αλλά επανεγγράφουν/αντικαθιστούν (overwrite)"
   ]
  },
  {
   "cell_type": "code",
   "execution_count": 74,
   "metadata": {
    "collapsed": false
   },
   "outputs": [
    {
     "name": "stdout",
     "output_type": "stream",
     "text": [
      "John said1234ello, world!'\n",
      "and everybody smiled\n",
      "\n"
     ]
    }
   ],
   "source": [
    "f = open('newfile.txt','r+')\n",
    "f.seek(9)\n",
    "f.write('1234')\n",
    "f.close()\n",
    "f = open('newfile.txt','r')\n",
    "print f.read()"
   ]
  },
  {
   "cell_type": "code",
   "execution_count": 75,
   "metadata": {
    "collapsed": false
   },
   "outputs": [
    {
     "name": "stdout",
     "output_type": "stream",
     "text": [
      "John said1234ello, world!'\n",
      "and everybody smiled\n",
      "\n"
     ]
    }
   ],
   "source": [
    "f = open('newfile.txt','r')\n",
    "print f.read()"
   ]
  },
  {
   "cell_type": "markdown",
   "metadata": {},
   "source": [
    "#### Τα w και write αποκόπτουν (truncate)"
   ]
  },
  {
   "cell_type": "code",
   "execution_count": 76,
   "metadata": {
    "collapsed": false
   },
   "outputs": [
    {
     "name": "stdout",
     "output_type": "stream",
     "text": [
      "\u0000\u0000\u0000\u0000\u0000\u0000\u0000\u0000\u00001234\n"
     ]
    }
   ],
   "source": [
    "f = open('newfile.txt','w')\n",
    "f.seek(9)\n",
    "f.write('1234')\n",
    "f.close()\n",
    "f = open('newfile.txt','r')\n",
    "print f.read()"
   ]
  },
  {
   "cell_type": "markdown",
   "metadata": {},
   "source": [
    "### Διάβασμα γραμμών με read, readline, readlines\n",
    "\n",
    "* **fileObject.read(size)**: Διαβάζει από τη θέση 0 ως την θέση size-1, αλλά την επόμενη φορά που θα ξαναχρησιμοποιηθεί, αρχίζει από την θέση size\n",
    "* **fileObject.readline()**: Την πρώτη φορά διαβάζει από την αρχή μέχρι το πρώτο '/n' (την πρώτη αλλαγή γραμμής). Την δεύτερη φορά διαβάζει από τη συνέχεια του πρώτου '/n' ως το επόμενο '/n' (την δεύτερη αλλαγή γραμμής). Κ.ο.κ.\n",
    "* **fileObject.readlines()**: Δημιουργεί μια λίστα με στοιχεία τις γραμμές του κειμένου μεταξύ αρχής και πρώτου '/n' και στη συνέχεια μεταξύ διαδοχικών '/n'."
   ]
  },
  {
   "cell_type": "code",
   "execution_count": 77,
   "metadata": {
    "collapsed": false
   },
   "outputs": [
    {
     "name": "stdout",
     "output_type": "stream",
     "text": [
      "The characters from 0 to 9 are:\n",
      "Second Lif\n",
      "\n",
      "The characters from 10 to 39 are:\n",
      "e is an online virtual world, \n",
      "\n",
      "The characters from 40 to 109 are:\n",
      "developed by San Francisco-based Linden Lab and launched on June 23, 2\n",
      "\n"
     ]
    }
   ],
   "source": [
    "f = open('test1.txt','r')\n",
    "text1=f.read(10)\n",
    "text2=f.read(30)\n",
    "text3=f.read(70)\n",
    "print 'The characters from 0 to 9 are:'\n",
    "print text1\n",
    "print \n",
    "print 'The characters from 10 to 39 are:'\n",
    "print text2\n",
    "print\n",
    "print 'The characters from 40 to 109 are:'\n",
    "print text3\n",
    "print"
   ]
  },
  {
   "cell_type": "code",
   "execution_count": 78,
   "metadata": {
    "collapsed": false
   },
   "outputs": [
    {
     "name": "stdout",
     "output_type": "stream",
     "text": [
      "Second Life is an online virtual world, developed by San Francisco-based Linden Lab and launched on June 23, 2003; and which in 2014 had about 1 million regular users, according to Linden Lab, who owns Second Life. In many ways, Second Life is similar to MMORPGs (Massively Multiplayer Online Role Playing Games); however, Linden Lab is emphatic that their creation is not a game: \"There is no manufactured conflict, no set objective\".\n",
      "\n",
      "\n",
      "\n",
      "The virtual world can be accessed freely via Linden Lab's own client programs, or via alternative Third Party Viewers. Second Life users (also called Residents) create virtual representations of themselves, called avatars and are able to interact with other avatars, places or objects. They can explore the world (known as the grid), meet other residents, socialize, participate in individual and group activities, build, create, shop and trade virtual property and services with one another! It is a platform that principally features 3D-based user-generated content. Second Life also has its own virtual currency, the Linden Dollar, which is exchangeable with real world currency. Second Life is intended for people aged 16 and over, with the exception of 13–15-year-old users restricted to the Second Life region of a sponsoring institution (e.g. school).\n",
      "\n",
      "\n",
      "\n",
      "Built into the software is a three-dimensional modeling tool based on simple geometric shapes that allows residents to build virtual objects. There is also a procedural scripting language, Linden Scripting Language, which can be used to add interactivity to objects. Sculpted prims (sculpties), mesh, textures for clothing or other objects, animations, and gestures can be created using external software and imported. The Second Life terms of service provide that users retain copyright for any content they create, and the server and client provide simple digital rights management (DRM) functions. However, Linden Lab changed their terms of service in August 2013, to be able to use user-generated content for any purpose. The new terms of service prevents users from using textures from 3rd-party texture services, as some of them pointed out explicitly. Users can also photograph in Second Life with the camera technology the client programs have!\n",
      "\n",
      "\n",
      "\n",
      "\"If Second Life isn't a game, what is it? - Technology & science - Games - On the Level\". NBC News. 2007-12-03. Retrieved 2014-08-01. \"UPDATED Was Cory Linden fired, or did he quit?\". Massively. December 13, 2007. Retrieved February 19, 2010.THE END     THE END\n"
     ]
    }
   ],
   "source": [
    "f = open('test1.txt','r')\n",
    "print f.readline()\n",
    "print f.readline()\n",
    "print f.readline()\n",
    "print f.readline()\n",
    "print f.readline()\n",
    "print f.readline()\n",
    "print f.readline()"
   ]
  },
  {
   "cell_type": "code",
   "execution_count": 79,
   "metadata": {
    "collapsed": false
   },
   "outputs": [
    {
     "name": "stdout",
     "output_type": "stream",
     "text": [
      "variable f is of <type 'file'>\n",
      "\n",
      "list lt is of <type 'list'>\n",
      "\n",
      "lt = ['Second Life is an online virtual world, developed by San Francisco-based Linden Lab and launched on June 23, 2003; and which in 2014 had about 1 million regular users, according to Linden Lab, who owns Second Life. In many ways, Second Life is similar to MMORPGs (Massively Multiplayer Online Role Playing Games); however, Linden Lab is emphatic that their creation is not a game: \"There is no manufactured conflict, no set objective\".\\n', '\\n', \"The virtual world can be accessed freely via Linden Lab's own client programs, or via alternative Third Party Viewers. Second Life users (also called Residents) create virtual representations of themselves, called avatars and are able to interact with other avatars, places or objects. They can explore the world (known as the grid), meet other residents, socialize, participate in individual and group activities, build, create, shop and trade virtual property and services with one another! It is a platform that principally features 3D-based user-generated content. Second Life also has its own virtual currency, the Linden Dollar, which is exchangeable with real world currency. Second Life is intended for people aged 16 and over, with the exception of 13\\xe2\\x80\\x9315-year-old users restricted to the Second Life region of a sponsoring institution (e.g. school).\\n\", '\\n', 'Built into the software is a three-dimensional modeling tool based on simple geometric shapes that allows residents to build virtual objects. There is also a procedural scripting language, Linden Scripting Language, which can be used to add interactivity to objects. Sculpted prims (sculpties), mesh, textures for clothing or other objects, animations, and gestures can be created using external software and imported. The Second Life terms of service provide that users retain copyright for any content they create, and the server and client provide simple digital rights management (DRM) functions. However, Linden Lab changed their terms of service in August 2013, to be able to use user-generated content for any purpose. The new terms of service prevents users from using textures from 3rd-party texture services, as some of them pointed out explicitly. Users can also photograph in Second Life with the camera technology the client programs have!\\n', '\\n', '\"If Second Life isn\\'t a game, what is it? - Technology & science - Games - On the Level\". NBC News. 2007-12-03. Retrieved 2014-08-01. \"UPDATED Was Cory Linden fired, or did he quit?\". Massively. December 13, 2007. Retrieved February 19, 2010.THE END     THE END']\n",
      "\n",
      "The length of list lt is 7\n",
      "\n",
      "The second element of list lt is:\n",
      "\"\n",
      "\"\n",
      "\n",
      "The contents of f are: \n",
      "\n",
      "Second Life is an online virtual world, developed by San Francisco-based Linden Lab and launched on June 23, 2003; and which in 2014 had about 1 million regular users, according to Linden Lab, who owns Second Life. In many ways, Second Life is similar to MMORPGs (Massively Multiplayer Online Role Playing Games); however, Linden Lab is emphatic that their creation is not a game: \"There is no manufactured conflict, no set objective\".\n",
      "\n",
      "The virtual world can be accessed freely via Linden Lab's own client programs, or via alternative Third Party Viewers. Second Life users (also called Residents) create virtual representations of themselves, called avatars and are able to interact with other avatars, places or objects. They can explore the world (known as the grid), meet other residents, socialize, participate in individual and group activities, build, create, shop and trade virtual property and services with one another! It is a platform that principally features 3D-based user-generated content. Second Life also has its own virtual currency, the Linden Dollar, which is exchangeable with real world currency. Second Life is intended for people aged 16 and over, with the exception of 13–15-year-old users restricted to the Second Life region of a sponsoring institution (e.g. school).\n",
      "\n",
      "Built into the software is a three-dimensional modeling tool based on simple geometric shapes that allows residents to build virtual objects. There is also a procedural scripting language, Linden Scripting Language, which can be used to add interactivity to objects. Sculpted prims (sculpties), mesh, textures for clothing or other objects, animations, and gestures can be created using external software and imported. The Second Life terms of service provide that users retain copyright for any content they create, and the server and client provide simple digital rights management (DRM) functions. However, Linden Lab changed their terms of service in August 2013, to be able to use user-generated content for any purpose. The new terms of service prevents users from using textures from 3rd-party texture services, as some of them pointed out explicitly. Users can also photograph in Second Life with the camera technology the client programs have!\n",
      "\n",
      "\"If Second Life isn't a game, what is it? - Technology & science - Games - On the Level\". NBC News. 2007-12-03. Retrieved 2014-08-01. \"UPDATED Was Cory Linden fired, or did he quit?\". Massively. December 13, 2007. Retrieved February 19, 2010.THE END     THE END\n"
     ]
    }
   ],
   "source": [
    "f = open('test1.txt','r')\n",
    "print '%s is of %s' %('variable f',type(f))\n",
    "print\n",
    "lt = f.readlines()\n",
    "print '%s is of %s' %('list lt',type(lt)) \n",
    "print\n",
    "print 'lt =', lt\n",
    "print\n",
    "print 'The length of %s is %i' %('list lt',len(lt))\n",
    "print\n",
    "print 'The second element of list lt is:' \n",
    "print  '\"%s\"' %(lt[1])\n",
    "print\n",
    "print 'The contents of f are: \\n'\n",
    "for i in lt:\n",
    "    print i.strip()"
   ]
  },
  {
   "cell_type": "markdown",
   "metadata": {},
   "source": [
    "<a id='5.8'></a>\n",
    "## 5.8 Διαχείριση Αρχείων-Καταλόγων στον Υπολογιστή"
   ]
  },
  {
   "cell_type": "code",
   "execution_count": 80,
   "metadata": {
    "collapsed": false
   },
   "outputs": [
    {
     "name": "stdout",
     "output_type": "stream",
     "text": [
      "The current directory path is: /Users/mosesboudourides/Dropbox/python projects/AnoiktaMathimataPython\n",
      ".ipynb_checkpoints\n",
      "1_numbers_and_text.ipynb\n",
      "2_flow_control.ipynb\n",
      "3_data_structures.ipynb\n",
      "4_functions.ipynb\n",
      "amp_toc.ipynb\n",
      "Example Machine Learning Notebook.ipynb\n",
      "FractalsMePython_1.ipynb\n",
      "gistfile1.ipynb\n",
      "P1.ipynb\n",
      "P2.ipynb\n",
      "P3.ipynb\n",
      "P4.ipynb\n",
      "P5.ipynb\n",
      "PerilipsiBasikwnEntolwnTisPython.ipynb\n",
      "Python_for_Data_Science_all.ipynb\n",
      "PythonCrashCourseInGreek.ipynb\n",
      "PythonCrashCourseInGreek.py\n",
      "PythonTutorial.ipynb\n",
      "Untitled.ipynb\n",
      "\n",
      "The current directory path is: /Users/mosesboudourides/Dropbox/python projects/Fractals\n",
      "ApollonianGasketIFS.py\n",
      "BakersMap.py\n",
      "BakersMap.pyc\n",
      "BerniesLSystem.py\n",
      "ChaosLyapunov.py\n",
      "dragonIFS.py\n",
      "dragonturtle.py\n",
      "fern1.py\n",
      "fractalgraph.py\n",
      "fractals1.py\n",
      "fractals2.py\n",
      "fractals3.py\n",
      "FractalTrees.py\n",
      "HenonMap.py\n",
      "IFS1 (Moses Boudourides's conflicted copy 2015-05-31).py\n",
      "IFS1 (Moses Boudourides's conflicted copy 2015-06-04).py\n",
      "IFS1 (Moses Boudourides's conflicted copy 2015-07-01).py\n",
      "IFS1.py\n",
      "IterateLogistic.py\n",
      "IterateLogistic.pyc\n",
      "julia.py\n",
      "julia1.py\n",
      "koch2.py\n",
      "kocht1.py\n",
      "kocht2.py\n",
      "kocht3.py\n",
      "kocht4.py\n",
      "mandelbrot.py\n",
      "mandelbrot1.py\n",
      "Mandelbrot2.py\n",
      "Mandelbrot3.py\n",
      "Mandelbrot4.py\n",
      "newtonfr.py\n",
      "RandomSpiralFractals.py\n",
      "RecursiveBinaryMatrixFractals.py\n",
      "RegularPolygonIFS.py\n",
      "sierpinski2.py\n",
      "sierpinski3.py\n",
      "sierpinskyt1.py\n",
      "sierpinskyt2.py\n",
      "sierpinskyt3.py\n",
      "sierpinskyt4.py\n",
      "sierpinskyt5.py\n",
      "snowflake.py\n",
      "theChaosGame.py\n",
      "turtle1.py\n",
      "turtle2.py\n",
      "\n",
      "The current directory path is: /Users/mosesboudourides/Dropbox/python projects/AnoiktaMathimataPython\n"
     ]
    }
   ],
   "source": [
    "import os\n",
    "\n",
    "currentDirectoryPath = os.getcwd()\n",
    "print 'The current directory path is:', currentDirectoryPath\n",
    "\n",
    "listOfFileNames = os.listdir(currentDirectoryPath)\n",
    "for name in listOfFileNames:\n",
    "    if (\".py\" in name) or (\".ipynb\" in name):\n",
    "        print name\n",
    "\n",
    "print\n",
    "        \n",
    "os.chdir(\"/Users/mosesboudourides/Dropbox/Python Projects/Fractals\")\n",
    "\n",
    "currentDirectoryPath = os.getcwd()\n",
    "print 'The current directory path is:', currentDirectoryPath\n",
    "\n",
    "listOfFileNames = os.listdir(currentDirectoryPath)\n",
    "for name in listOfFileNames:\n",
    "    if (\".py\" in name) or (\".ipynb\" in name):\n",
    "        print name\n",
    "\n",
    "print\n",
    "\n",
    "os.chdir(\"/Users/mosesboudourides/Dropbox/Python Projects/AnoiktaMathimataPython\")\n",
    "\n",
    "currentDirectoryPath = os.getcwd()\n",
    "print 'The current directory path is:', currentDirectoryPath"
   ]
  },
  {
   "cell_type": "code",
   "execution_count": null,
   "metadata": {
    "collapsed": true
   },
   "outputs": [],
   "source": []
  }
 ],
 "metadata": {
  "kernelspec": {
   "display_name": "Python 2",
   "language": "python",
   "name": "python2"
  },
  "language_info": {
   "codemirror_mode": {
    "name": "ipython",
    "version": 2
   },
   "file_extension": ".py",
   "mimetype": "text/x-python",
   "name": "python",
   "nbconvert_exporter": "python",
   "pygments_lexer": "ipython2",
   "version": "2.7.10"
  }
 },
 "nbformat": 4,
 "nbformat_minor": 0
}
