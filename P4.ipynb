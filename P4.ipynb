{
 "cells": [
  {
   "cell_type": "markdown",
   "metadata": {},
   "source": [
    "# 4. ΒΑΣΙΚΟΙ ΤΕΛΕΣΤΕΣ"
   ]
  },
  {
   "cell_type": "markdown",
   "metadata": {},
   "source": [
    "[4.1 Αριθμητικές Πράξεις](#4.1)\n",
    "\n",
    "[4.2 Λογικές Συγκρίσεις](#4.2)\n",
    "\n",
    "[4.3 Λογικοί Σύνδεσμοι](#4.3)\n",
    "\n",
    "[4.4 Δυαδικές Πράξεις μεταξύ Συμβολοσειρών (Δυαδικών Αριθμών)](#4.4)\n",
    "\n",
    "[4.5 Καταχωρήσεις (Assignments)](#4.5)\n",
    "\n",
    "[4.6 Συγκατάταξη (Membership)](#4.6)\n",
    "\n",
    "[4.7 Ταυτότητα](#4.7)\n",
    "\n",
    "[4.8 Προτεραιότητα Τελεστών](#4.8)"
   ]
  },
  {
   "cell_type": "markdown",
   "metadata": {},
   "source": [
    "<a id='4.1'></a>\n",
    "## 4.1 Αριθμητικές Πράξεις"
   ]
  },
  {
   "cell_type": "markdown",
   "metadata": {},
   "source": [
    "### Πρόσθεση και Αφαίρεση: + και -"
   ]
  },
  {
   "cell_type": "code",
   "execution_count": 2,
   "metadata": {
    "collapsed": false
   },
   "outputs": [
    {
     "name": "stdout",
     "output_type": "stream",
     "text": [
      " 2 + 3.7 = 5.7\n",
      "2 - 3.7 = -1.7\n"
     ]
    }
   ],
   "source": [
    "print '2 + 3.7 =', 2 + 3.7\n",
    "print '2 - 3.7 =', 2 - 3.7"
   ]
  },
  {
   "cell_type": "markdown",
   "metadata": {},
   "source": [
    "### Πολλαπλασιασμός: *"
   ]
  },
  {
   "cell_type": "code",
   "execution_count": 3,
   "metadata": {
    "collapsed": false
   },
   "outputs": [
    {
     "name": "stdout",
     "output_type": "stream",
     "text": [
      "(2 x 3.7) is written as (2 * 3.7) = 7.4\n"
     ]
    }
   ],
   "source": [
    "print '(2 x 3.7) is written as (2 * 3.7) =', 2 * 3.7"
   ]
  },
  {
   "cell_type": "markdown",
   "metadata": {},
   "source": [
    "### Δύναμη (Ύψωση σε Εκθέτη): **"
   ]
  },
  {
   "cell_type": "code",
   "execution_count": 4,
   "metadata": {
    "collapsed": false
   },
   "outputs": [
    {
     "name": "stdout",
     "output_type": "stream",
     "text": [
      "(2 ^ 5) is written as 2**5 = 32\n",
      "(2 ^ 5.3) is written as 2**5.3 = 39.396621227\n",
      "(2 ^ (-5)) is written as 2**(-5) = 0.03125\n"
     ]
    }
   ],
   "source": [
    "print '(2 ^ 5) is written as 2**5 =', 2**5\n",
    "print '(2 ^ 5.3) is written as 2**5.3 =', 2**5.3\n",
    "print '(2 ^ (-5)) is written as 2**(-5) =', 2**(-5)"
   ]
  },
  {
   "cell_type": "markdown",
   "metadata": {},
   "source": [
    "### Εναλλακτικός τρόπος για Ύψωση σε Δύναμη: pow(x,y)"
   ]
  },
  {
   "cell_type": "code",
   "execution_count": 5,
   "metadata": {
    "collapsed": false
   },
   "outputs": [
    {
     "name": "stdout",
     "output_type": "stream",
     "text": [
      "(2 ^ 5) is written as pow(2,5) = 32\n",
      "(2 ^ 5.3) is written as pow(2,5.3) = 39.396621227\n",
      "(2 ^ (-5)) is written as pow(2,-5) = 0.03125\n"
     ]
    }
   ],
   "source": [
    "print '(2 ^ 5) is written as pow(2,5) =', pow(2,5)\n",
    "print '(2 ^ 5.3) is written as pow(2,5.3) =', pow(2,5.3)\n",
    "print '(2 ^ (-5)) is written as pow(2,-5) =', pow(2,-5)"
   ]
  },
  {
   "cell_type": "markdown",
   "metadata": {},
   "source": [
    "### Ακέραια Διαίρεση (Ακέραιο Πηλίκο): / ή //"
   ]
  },
  {
   "cell_type": "code",
   "execution_count": 6,
   "metadata": {
    "collapsed": false
   },
   "outputs": [
    {
     "name": "stdout",
     "output_type": "stream",
     "text": [
      "3 / 2 = 1\n",
      "3 // 2 = 1\n"
     ]
    }
   ],
   "source": [
    "print '3 / 2 =', 3 / 2  # ΠΡΟΣΟΧΗ: Το module __future__ ΔΕΝ πρέπει να έχει εισαχθεί προηγουμένως!\n",
    "                        # Δείτε παρακάτω.\n",
    "print '3 // 2 =', 3 // 2"
   ]
  },
  {
   "cell_type": "markdown",
   "metadata": {},
   "source": [
    "### Ακέραια Διαίρεση (Μη Ακέραιο Πραγματικό Πηλίκο): // με μια τουλάχιστον . "
   ]
  },
  {
   "cell_type": "code",
   "execution_count": 7,
   "metadata": {
    "collapsed": false
   },
   "outputs": [
    {
     "name": "stdout",
     "output_type": "stream",
     "text": [
      "3 // 2 = 1.0\n",
      "3 // 2 = 1.0\n",
      "3 // 2 = 1.0\n"
     ]
    }
   ],
   "source": [
    "print '3 // 2 =', 3. // 2    # 3. is the float 3.0\n",
    "print '3 // 2 =', 3 // 2.\n",
    "print '3 // 2 =', 3. // 2."
   ]
  },
  {
   "cell_type": "markdown",
   "metadata": {},
   "source": [
    "### Υπόλοιπο Διαίρεσης (modulo): %"
   ]
  },
  {
   "cell_type": "code",
   "execution_count": 8,
   "metadata": {
    "collapsed": false
   },
   "outputs": [
    {
     "name": "stdout",
     "output_type": "stream",
     "text": [
      "(3 % 2) is the remainder of the division (3 / 2) = 1\n"
     ]
    }
   ],
   "source": [
    "print '(3 % 2) is the remainder of the division (3 / 2) =', 3 % 2"
   ]
  },
  {
   "cell_type": "markdown",
   "metadata": {},
   "source": [
    "### Πραγματική Διαίρεση (Μη Ακέραιο Πηλίκο): / με μια τουλάχιστον . (ή από το \"__future__\")"
   ]
  },
  {
   "cell_type": "code",
   "execution_count": 9,
   "metadata": {
    "collapsed": false
   },
   "outputs": [
    {
     "name": "stdout",
     "output_type": "stream",
     "text": [
      "3. / 2 = 1.5\n",
      "3 / 2. = 1.5\n",
      "3. / 2. = 1.5\n",
      "\n"
     ]
    }
   ],
   "source": [
    "print '3. / 2 =', 3. / 2\n",
    "print '3 / 2. =', 3 / 2.\n",
    "print '3. / 2. =', 3. / 2.\n",
    "print \n",
    "# print 'Through the module __future__:'\n",
    "# from __future__ import division        # This import has to be done!\n",
    "# print '3 / 2 =', 3 / 2"
   ]
  },
  {
   "cell_type": "markdown",
   "metadata": {},
   "source": [
    "### Ζεύγος Ακέραιας Διαίρεσης και Υπόλοιπου: div(x,y)"
   ]
  },
  {
   "cell_type": "code",
   "execution_count": 10,
   "metadata": {
    "collapsed": false
   },
   "outputs": [
    {
     "name": "stdout",
     "output_type": "stream",
     "text": [
      "divmod(30,7) gives the integer pair of division (30//7) and remainder (30%7) = (4, 2)\n",
      "divmod(30.,7) gives the float pair of division (30.//7) and remainder (30.%7) = (4.0, 2.0)\n"
     ]
    }
   ],
   "source": [
    "print 'divmod(30,7) gives the integer pair of division (30//7) and remainder (30%7) =', divmod(30,7)\n",
    "print 'divmod(30.,7) gives the float pair of division (30.//7) and remainder (30.%7) =', divmod(30.,7)"
   ]
  },
  {
   "cell_type": "markdown",
   "metadata": {},
   "source": [
    "<a id='4.2'></a>\n",
    "## 4.2 Λογικές Συγκρίσεις"
   ]
  },
  {
   "cell_type": "markdown",
   "metadata": {},
   "source": [
    "Οι λογικές συγκρίσεις είναι έλεγχοι της **ισότητας** ή **ανισότητας** μεταξύ δυο αριθμών και δίνουν ως απότελεσμα είτε **True** (**Αληθές**) ή **False** (**Ψευδές**). Είναι, δηλαδή, **πράξεις του Boole**."
   ]
  },
  {
   "cell_type": "markdown",
   "metadata": {},
   "source": [
    "### Έλεγχοι Ισότητας-Διαφορετικότητας: ==, != ή <>"
   ]
  },
  {
   "cell_type": "code",
   "execution_count": 28,
   "metadata": {
    "collapsed": false
   },
   "outputs": [
    {
     "name": "stdout",
     "output_type": "stream",
     "text": [
      "'a == b' is True\n",
      "'a == c' is True\n",
      "'a == d' is False\n",
      "'a != b' is False\n",
      "'a <> c' is False\n",
      "'a != d' is True\n",
      "'a <> d' is True\n"
     ]
    }
   ],
   "source": [
    "a, b, c = 10, 10, 10.\n",
    "d = 2\n",
    "print \"'a == b' is\", a == b\n",
    "print \"'a == c' is\", a == c\n",
    "print \"'a == d' is\", a == d\n",
    "print \"'a != b' is\", a != b\n",
    "print \"'a <> c' is\", a <> c\n",
    "print \"'a != d' is\", a != d\n",
    "print \"'a <> d' is\", a <> d"
   ]
  },
  {
   "cell_type": "markdown",
   "metadata": {},
   "source": [
    "### Έλεγχοι Ανισοτήτων: <, >, <=, >="
   ]
  },
  {
   "cell_type": "code",
   "execution_count": 12,
   "metadata": {
    "collapsed": false
   },
   "outputs": [
    {
     "name": "stdout",
     "output_type": "stream",
     "text": [
      "'d < b' is True\n",
      "'d > b' is False\n",
      "'a > d' is True\n",
      "'a < d' is False\n",
      "'a <= b' is True\n",
      "'a <= d' is False\n",
      "'a >= d' is True\n",
      "'d >= b' is False\n"
     ]
    }
   ],
   "source": [
    "print \"'d < b' is\", d < b\n",
    "print \"'d > b' is\", d > b\n",
    "print \"'a > d' is\", a > d\n",
    "print \"'a < d' is\", a < d\n",
    "print \"'a <= b' is\", a <= b\n",
    "print \"'a <= d' is\", a <= d\n",
    "print \"'a >= d' is\", a >= d\n",
    "print \"'d >= b' is\", d >= b"
   ]
  },
  {
   "cell_type": "markdown",
   "metadata": {},
   "source": [
    "<a id='4.3'></a>\n",
    "## 4.3 Λογικοί Σύνδεσμοι"
   ]
  },
  {
   "cell_type": "markdown",
   "metadata": {},
   "source": [
    "### Λογική Σύζευξη: and"
   ]
  },
  {
   "cell_type": "code",
   "execution_count": 13,
   "metadata": {
    "collapsed": false
   },
   "outputs": [
    {
     "name": "stdout",
     "output_type": "stream",
     "text": [
      "'a == b' is True\n",
      "'a == c' is True\n",
      "'a == b and a == c' is True\n"
     ]
    }
   ],
   "source": [
    "print \"'a == b' is\", a == b\n",
    "print \"'a == c' is\", a == c\n",
    "print \"'a == b and a == c' is\", a == b and a == c"
   ]
  },
  {
   "cell_type": "markdown",
   "metadata": {},
   "source": [
    "### Λογική Διάζευξη: or"
   ]
  },
  {
   "cell_type": "code",
   "execution_count": 29,
   "metadata": {
    "collapsed": false
   },
   "outputs": [
    {
     "name": "stdout",
     "output_type": "stream",
     "text": [
      "'a == b' is True\n",
      "'a == d' is False\n",
      "'a == b or a == d' is True\n"
     ]
    }
   ],
   "source": [
    "print \"'a == b' is\", a == b\n",
    "print \"'a == d' is\", a == d\n",
    "print \"'a == b or a == d' is\", a == b or a == d"
   ]
  },
  {
   "cell_type": "markdown",
   "metadata": {},
   "source": [
    "### Λογική Άρνηση: not"
   ]
  },
  {
   "cell_type": "code",
   "execution_count": 30,
   "metadata": {
    "collapsed": false
   },
   "outputs": [
    {
     "name": "stdout",
     "output_type": "stream",
     "text": [
      "'a == b' is True\n",
      "'a == c' is True\n",
      "'not(a == b and a == c)' is False\n"
     ]
    }
   ],
   "source": [
    "print \"'a == b' is\", a == b\n",
    "print \"'a == c' is\", a == c\n",
    "print \"'not(a == b and a == c)' is\", not(a == b and a == c)"
   ]
  },
  {
   "cell_type": "markdown",
   "metadata": {},
   "source": [
    "<a id='4.4'></a>\n",
    "## 4.4 Δυαδικές Πράξεις μεταξύ Συμβολοσειρών (Δυαδικών Αριθμών)"
   ]
  },
  {
   "cell_type": "markdown",
   "metadata": {},
   "source": [
    "### Σύζευξη Στοιχείων (Bits): &"
   ]
  },
  {
   "cell_type": "code",
   "execution_count": 16,
   "metadata": {
    "collapsed": false
   },
   "outputs": [
    {
     "name": "stdout",
     "output_type": "stream",
     "text": [
      "60 in the Pythonic binary form is 0b111100\n",
      "13 in the Pythonic binary form is 0b1101\n",
      "60 in the standard binary form is 111100\n",
      "13 in the Pythonic binary form is 1101\n",
      "\n",
      "60 & 13 in the Pythonic binary form is 0b1100\n",
      "60 & 13 in the Pythonic binary form is 1100\n",
      "60 & 13 in the decimal form is 12\n"
     ]
    }
   ],
   "source": [
    "print '60 in the Pythonic binary form is', bin(60)\n",
    "print '13 in the Pythonic binary form is', bin(13)\n",
    "print '60 in the standard binary form is', bin(60)[2:] \n",
    "print '13 in the Pythonic binary form is', bin(13)[2:]\n",
    "print\n",
    "print '60 & 13 in the Pythonic binary form is', bin(60 & 13)\n",
    "print '60 & 13 in the Pythonic binary form is', bin(60 & 13)[2:]\n",
    "print '60 & 13 in the decimal form is', int(bin(60 & 13),2)"
   ]
  },
  {
   "cell_type": "markdown",
   "metadata": {
    "collapsed": false
   },
   "source": [
    "### Διάζευξη Στοιχείων (Bits): |"
   ]
  },
  {
   "cell_type": "code",
   "execution_count": 17,
   "metadata": {
    "collapsed": false
   },
   "outputs": [
    {
     "name": "stdout",
     "output_type": "stream",
     "text": [
      "60 | 13 in the Pythonic binary form is 0b111101\n",
      "60 | 13 in the Pythonic binary form is 111101\n",
      "60 | 13 in the decimal form is 61\n"
     ]
    }
   ],
   "source": [
    "print '60 | 13 in the Pythonic binary form is', bin(60 | 13)\n",
    "print '60 | 13 in the Pythonic binary form is', bin(60 | 13)[2:]\n",
    "print '60 | 13 in the decimal form is', int(bin(60 | 13),2)"
   ]
  },
  {
   "cell_type": "markdown",
   "metadata": {},
   "source": [
    "### Πύλη XOR Στοιχείων (Bits): ^"
   ]
  },
  {
   "cell_type": "code",
   "execution_count": 18,
   "metadata": {
    "collapsed": false
   },
   "outputs": [
    {
     "name": "stdout",
     "output_type": "stream",
     "text": [
      "60 ^ 13 in the Pythonic binary form is 0b110001\n",
      "60 ^ 13 in the Pythonic binary form is 110001\n",
      "60 ^ 13 in the decimal form is 49\n"
     ]
    }
   ],
   "source": [
    "print '60 ^ 13 in the Pythonic binary form is', bin(60 ^ 13)\n",
    "print '60 ^ 13 in the Pythonic binary form is', bin(60 ^ 13)[2:]\n",
    "print '60 ^ 13 in the decimal form is', int(bin(60 ^ 13),2)"
   ]
  },
  {
   "cell_type": "markdown",
   "metadata": {},
   "source": [
    "### Δυαδικό Συμπλήρωμα (Αντιστροφή) Στοιχείων (Bits): ~"
   ]
  },
  {
   "cell_type": "code",
   "execution_count": 31,
   "metadata": {
    "collapsed": false
   },
   "outputs": [
    {
     "name": "stdout",
     "output_type": "stream",
     "text": [
      "~60 in the Pythonic binary form is -0b111101\n",
      "~60 in the standard binary form is 111101\n",
      "~60 in the decimal form is -61\n"
     ]
    }
   ],
   "source": [
    "print '~60 in the Pythonic binary form is', bin(~60)\n",
    "print '~60 in the standard binary form is', bin(~60)[3:] \n",
    "print '~60 in the decimal form is', int(bin(~60),2)"
   ]
  },
  {
   "cell_type": "markdown",
   "metadata": {},
   "source": [
    "### Μετατόπιση προς τα Αριστερά των Στοιχείων (Bits): <<"
   ]
  },
  {
   "cell_type": "code",
   "execution_count": 20,
   "metadata": {
    "collapsed": false
   },
   "outputs": [
    {
     "name": "stdout",
     "output_type": "stream",
     "text": [
      "60 << 2 in the Pythonic binary form is 0b11110000\n",
      "60 << 2 in the standard binary form is 11110000\n",
      "60 << 2 in the decimal form is 240\n"
     ]
    }
   ],
   "source": [
    "print '60 << 2 in the Pythonic binary form is', bin(60 << 2)\n",
    "print '60 << 2 in the standard binary form is', bin(60 << 2)[2:] \n",
    "print '60 << 2 in the decimal form is', int(bin(60 << 2),2)"
   ]
  },
  {
   "cell_type": "markdown",
   "metadata": {},
   "source": [
    "### Μετατόπιση προς τα Δεξιά των Στοιχείων (Bits): >>"
   ]
  },
  {
   "cell_type": "code",
   "execution_count": 21,
   "metadata": {
    "collapsed": false
   },
   "outputs": [
    {
     "name": "stdout",
     "output_type": "stream",
     "text": [
      "60 >> 2 in the Pythonic binary form is 0b1111\n",
      "60 >> 2 in the standard binary form is 1111\n",
      "60 >> 2 in the decimal form is 15\n"
     ]
    }
   ],
   "source": [
    "print '60 >> 2 in the Pythonic binary form is', bin(60 >> 2)\n",
    "print '60 >> 2 in the standard binary form is', bin(60 >> 2)[2:] \n",
    "print '60 >> 2 in the decimal form is', int(bin(60 >> 2),2)"
   ]
  },
  {
   "cell_type": "markdown",
   "metadata": {},
   "source": [
    "<a id='4.5'></a>\n",
    "## 4.5 Καταχωρήσεις (Assignments)"
   ]
  },
  {
   "cell_type": "markdown",
   "metadata": {},
   "source": [
    "### Καταχώρηση Τιμής σε Μεταβλητή: ="
   ]
  },
  {
   "cell_type": "code",
   "execution_count": 22,
   "metadata": {
    "collapsed": false
   },
   "outputs": [
    {
     "name": "stdout",
     "output_type": "stream",
     "text": [
      "'x == 2' is True\n",
      "'x == 2.' is True\n",
      "'y == 2.' is True\n",
      "'y == 2' is True\n",
      "'type(x) == int' is True\n",
      "'type(x) == float' is False\n",
      "'type(y) == float' is True\n",
      "'type(y) == int' is False\n"
     ]
    }
   ],
   "source": [
    "x = 2\n",
    "y = 2.\n",
    "print \"'x == 2' is\", x == 2 \n",
    "print \"'x == 2.' is\", x == 2.\n",
    "print \"'y == 2.' is\", y == 2. \n",
    "print \"'y == 2' is\", y == 2\n",
    "print \"'type(x) == int' is\", type(x) == int\n",
    "print \"'type(x) == float' is\", type(x) == float\n",
    "print \"'type(y) == float' is\", type(y) == float\n",
    "print \"'type(y) == int' is\", type(y) == int"
   ]
  },
  {
   "cell_type": "markdown",
   "metadata": {},
   "source": [
    "### Συντομεύσεις: +=, \\-=, \\*=, **=, /=, //=, %="
   ]
  },
  {
   "cell_type": "code",
   "execution_count": 23,
   "metadata": {
    "collapsed": false
   },
   "outputs": [
    {
     "name": "stdout",
     "output_type": "stream",
     "text": [
      "'(c += a) is the same to (c = c + a)' is True and = 4\n",
      "'(c -= a) is the same to (c = c - a)' is True and = 2\n",
      "'(c *= b) is the same to (c = c * b)' is True and = 6\n",
      "'(c //= b) is the same to (c = c // b)' is True and = 1\n",
      "'(c /= float(b)) is the same to (c = c / float(b))' is True and = 1.5\n"
     ]
    }
   ],
   "source": [
    "a, b, c = 1, 2, 3\n",
    "\n",
    "d = c + a\n",
    "c += a \n",
    "print \"'(c += a) is the same to (c = c + a)' is\", c == d, 'and =', c\n",
    "\n",
    "c = 3\n",
    "e = c - a\n",
    "c -= a\n",
    "print \"'(c -= a) is the same to (c = c - a)' is\", c == e, 'and =', c\n",
    "\n",
    "c = 3\n",
    "f = c * b\n",
    "c *= b\n",
    "print \"'(c *= b) is the same to (c = c * b)' is\", c == f, 'and =', c\n",
    "\n",
    "c = 3\n",
    "g = c / b\n",
    "c //= b\n",
    "print \"'(c //= b) is the same to (c = c // b)' is\", c == g, 'and =', c\n",
    "\n",
    "c = 3\n",
    "h = c / float(b)\n",
    "c /= float(b)\n",
    "print \"'(c /= float(b)) is the same to (c = c / float(b))' is\", c == h, 'and =', c"
   ]
  },
  {
   "cell_type": "markdown",
   "metadata": {},
   "source": [
    "<a id='4.6'></a>\n",
    "## 4.6 Συγκατάταξη (Membership)"
   ]
  },
  {
   "cell_type": "markdown",
   "metadata": {},
   "source": [
    "### Έλεγχος αν ένα σύμβολο/στοιχείο ανήκει ή δεν ανήκει σε μια συμβολοσειρά/λίστα/κλπ.: in, not in"
   ]
  },
  {
   "cell_type": "code",
   "execution_count": 33,
   "metadata": {
    "collapsed": false
   },
   "outputs": [
    {
     "name": "stdout",
     "output_type": "stream",
     "text": [
      "\"'a' in s\" is True\n",
      "\"'p' in s\" is False\n",
      "\"'ra' in s\" is True\n",
      "\"'b' in s\" is False\n",
      "\"'ar' in s\" is False\n",
      "\"'3' in s\" is True\n",
      "\"'333' in s\" is False\n"
     ]
    }
   ],
   "source": [
    "s = 'Patra'\n",
    "print '''\"'a' in s\" is''',  'a' in s\n",
    "print '''\"'p' in s\" is''',  'p' in s\n",
    "print '''\"'ra' in s\" is''',  'ra' in s\n",
    "print '''\"'b' in s\" is''',  'b' in s\n",
    "print '''\"'ar' in s\" is''',  'ar' in s\n",
    "t = str(13579)\n",
    "print '''\"'3' in s\" is''',  '3' in t\n",
    "print '''\"'333' in s\" is''',  '333' in t"
   ]
  },
  {
   "cell_type": "markdown",
   "metadata": {},
   "source": [
    "<a id='4.7'></a>\n",
    "## 4.7 Ταυτότητα"
   ]
  },
  {
   "cell_type": "markdown",
   "metadata": {},
   "source": [
    "### Έλεγχος αν οι τιμές δυο μεταβλητών είναι οι ίδιες ή όχι: is, is not"
   ]
  },
  {
   "cell_type": "code",
   "execution_count": 5,
   "metadata": {
    "collapsed": false
   },
   "outputs": [
    {
     "name": "stdout",
     "output_type": "stream",
     "text": [
      "'s is r' is True\n",
      "'s is not t' is True\n",
      "'r is t' is False\n",
      "'r is not s' is False\n"
     ]
    }
   ],
   "source": [
    "s, r, t = 'Patra', 'Patra', str(13579)\n",
    "print \"'s is r' is\", s is r\n",
    "print \"'s is not t' is\", s is not t\n",
    "print \"'r is t' is\", r is t\n",
    "print \"'r is not s' is\", r is not s"
   ]
  },
  {
   "cell_type": "markdown",
   "metadata": {},
   "source": [
    "**Σχέση is με ==**: <br\\> \n",
    "* Το **==** συγκρίνει τιμές μεταβλητών, ενώ \n",
    "* το **is** συγκρίνει τα δελτία ταυτότητας των μεταβλητών (τα id των μεταβλητών)"
   ]
  },
  {
   "cell_type": "code",
   "execution_count": 17,
   "metadata": {
    "collapsed": false
   },
   "outputs": [
    {
     "name": "stdout",
     "output_type": "stream",
     "text": [
      "'s == r' is True\n",
      "'s is r' is True\n",
      "4355810576 4355810576\n",
      "The reason that both 's == r' and 's is r' are True is because 'id(s) == id(r)' is True\n"
     ]
    }
   ],
   "source": [
    "print \"'s == r' is\", s == r\n",
    "print \"'s is r' is\", s is r\n",
    "print id(s), id(r)\n",
    "print \"The reason that both 's == r' and 's is r' are True is because 'id(s) == id(r)' is\", id(s) == id(r)"
   ]
  },
  {
   "cell_type": "code",
   "execution_count": 18,
   "metadata": {
    "collapsed": false
   },
   "outputs": [
    {
     "name": "stdout",
     "output_type": "stream",
     "text": [
      "'u == v' is True\n",
      "'u is v' is False\n",
      "4298874840 4299744768\n",
      "The reason that both 'u == v' and 'u is v' are not True is because 'id(u) == id(v)' is True\n"
     ]
    }
   ],
   "source": [
    "u, v = 123456789, 123456788 + 1\n",
    "print \"'u == v' is\",u == v\n",
    "print \"'u is v' is\", u is v\n",
    "print id(u), id(v)\n",
    "print \"The reason that both 'u == v' and 'u is v' are not True is because 'id(u) == id(v)' is\", id(s) == id(r)"
   ]
  },
  {
   "cell_type": "markdown",
   "metadata": {},
   "source": [
    "<a id='4.8'></a>\n",
    "## 4.8 Προτεραιότητα Τελεστών"
   ]
  },
  {
   "cell_type": "markdown",
   "metadata": {},
   "source": [
    "### Στον πίνακα που ακολουθεί, οι βασικοί τελεστές είναι ταξινομημένοι από υψηλή σε χαμηλή προτεραιότητα:"
   ]
  },
  {
   "cell_type": "code",
   "execution_count": 26,
   "metadata": {
    "collapsed": false
   },
   "outputs": [
    {
     "data": {
      "image/png": "[encoded data removed]",
      "text/plain": [
       "<IPython.core.display.Image object>"
      ]
     },
     "execution_count": 26,
     "metadata": {},
     "output_type": "execute_result"
    }
   ],
   "source": [
    "from IPython.display import Image\n",
    "Image(filename='precedence.png')"
   ]
  },
  {
   "cell_type": "code",
   "execution_count": null,
   "metadata": {
    "collapsed": true
   },
   "outputs": [],
   "source": []
  }
 ],
 "metadata": {
  "kernelspec": {
   "display_name": "Python 2",
   "language": "python",
   "name": "python2"
  },
  "language_info": {
   "codemirror_mode": {
    "name": "ipython",
    "version": 2
   },
   "file_extension": ".py",
   "mimetype": "text/x-python",
   "name": "python",
   "nbconvert_exporter": "python",
   "pygments_lexer": "ipython2",
   "version": "2.7.10"
  }
 },
 "nbformat": 4,
 "nbformat_minor": 0
}
